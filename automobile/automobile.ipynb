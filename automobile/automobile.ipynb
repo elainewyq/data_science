{
 "cells": [
  {
   "cell_type": "markdown",
   "metadata": {
    "colab_type": "text",
    "id": "E5qwM3Xx3W46"
   },
   "source": [
    "Below shows the process of data analaysis performed on an open source data relating to 1985 used automobile. The goal of the analysis is to predict the used car price given main characteristics of the car.\n",
    "\n",
    "Here is an overview of the process:\n",
    "\n",
    "### Data Acquisition\n",
    "- Load and read dataset\n",
    "- Add headers for dataset\n",
    "\n",
    "### Data Preprocessing\n",
    "- Identify and handle missing values\n",
    "- Explore datatype and correct mismatches\n",
    "- Standardize dataset\n",
    "- Normalize dataset\n",
    "- Perform data binning\n",
    "- Create dummy variables\n",
    "\n",
    "### Exploratory Data Analysis\n",
    "- Descriptive statistics\n",
    "- Perform group-by\n",
    "- Explore correlation between variables\n",
    "- Perform ANOVA\n"
   ]
  },
  {
   "cell_type": "markdown",
   "metadata": {
    "colab_type": "text",
    "id": "iAaRyNcIodc6"
   },
   "source": [
    "<h2>Data Acquisition</h2>\n",
    "\n"
   ]
  },
  {
   "cell_type": "markdown",
   "metadata": {
    "colab_type": "text",
    "id": "32Q9XFuX5UWJ"
   },
   "source": [
    "- Load and Read Dataset"
   ]
  },
  {
   "cell_type": "code",
   "execution_count": 55,
   "metadata": {
    "colab": {},
    "colab_type": "code",
    "id": "2dIkPOso2xeU"
   },
   "outputs": [],
   "source": [
    "import pandas as pd"
   ]
  },
  {
   "cell_type": "code",
   "execution_count": 56,
   "metadata": {
    "colab": {},
    "colab_type": "code",
    "id": "Wji5tiFA3KcA"
   },
   "outputs": [],
   "source": [
    "df = pd.read_csv('auto.csv')"
   ]
  },
  {
   "cell_type": "code",
   "execution_count": 57,
   "metadata": {
    "colab": {
     "base_uri": "https://localhost:8080/",
     "height": 191
    },
    "colab_type": "code",
    "id": "1Zw04sne3TFE",
    "outputId": "e1926ddd-6901-4b81-bd9f-aea83934fdf1"
   },
   "outputs": [
    {
     "data": {
      "text/html": [
       "<div>\n",
       "<style scoped>\n",
       "    .dataframe tbody tr th:only-of-type {\n",
       "        vertical-align: middle;\n",
       "    }\n",
       "\n",
       "    .dataframe tbody tr th {\n",
       "        vertical-align: top;\n",
       "    }\n",
       "\n",
       "    .dataframe thead th {\n",
       "        text-align: right;\n",
       "    }\n",
       "</style>\n",
       "<table border=\"1\" class=\"dataframe\">\n",
       "  <thead>\n",
       "    <tr style=\"text-align: right;\">\n",
       "      <th></th>\n",
       "      <th>3</th>\n",
       "      <th>?</th>\n",
       "      <th>alfa-romero</th>\n",
       "      <th>gas</th>\n",
       "      <th>std</th>\n",
       "      <th>two</th>\n",
       "      <th>convertible</th>\n",
       "      <th>rwd</th>\n",
       "      <th>front</th>\n",
       "      <th>88.6</th>\n",
       "      <th>...</th>\n",
       "      <th>130</th>\n",
       "      <th>mpfi</th>\n",
       "      <th>3.47</th>\n",
       "      <th>2.68</th>\n",
       "      <th>9.0</th>\n",
       "      <th>111</th>\n",
       "      <th>5000</th>\n",
       "      <th>21</th>\n",
       "      <th>27</th>\n",
       "      <th>13495</th>\n",
       "    </tr>\n",
       "  </thead>\n",
       "  <tbody>\n",
       "    <tr>\n",
       "      <th>0</th>\n",
       "      <td>3</td>\n",
       "      <td>?</td>\n",
       "      <td>alfa-romero</td>\n",
       "      <td>gas</td>\n",
       "      <td>std</td>\n",
       "      <td>two</td>\n",
       "      <td>convertible</td>\n",
       "      <td>rwd</td>\n",
       "      <td>front</td>\n",
       "      <td>88.6</td>\n",
       "      <td>...</td>\n",
       "      <td>130</td>\n",
       "      <td>mpfi</td>\n",
       "      <td>3.47</td>\n",
       "      <td>2.68</td>\n",
       "      <td>9.0</td>\n",
       "      <td>111</td>\n",
       "      <td>5000</td>\n",
       "      <td>21</td>\n",
       "      <td>27</td>\n",
       "      <td>16500</td>\n",
       "    </tr>\n",
       "    <tr>\n",
       "      <th>1</th>\n",
       "      <td>1</td>\n",
       "      <td>?</td>\n",
       "      <td>alfa-romero</td>\n",
       "      <td>gas</td>\n",
       "      <td>std</td>\n",
       "      <td>two</td>\n",
       "      <td>hatchback</td>\n",
       "      <td>rwd</td>\n",
       "      <td>front</td>\n",
       "      <td>94.5</td>\n",
       "      <td>...</td>\n",
       "      <td>152</td>\n",
       "      <td>mpfi</td>\n",
       "      <td>2.68</td>\n",
       "      <td>3.47</td>\n",
       "      <td>9.0</td>\n",
       "      <td>154</td>\n",
       "      <td>5000</td>\n",
       "      <td>19</td>\n",
       "      <td>26</td>\n",
       "      <td>16500</td>\n",
       "    </tr>\n",
       "    <tr>\n",
       "      <th>2</th>\n",
       "      <td>2</td>\n",
       "      <td>164</td>\n",
       "      <td>audi</td>\n",
       "      <td>gas</td>\n",
       "      <td>std</td>\n",
       "      <td>four</td>\n",
       "      <td>sedan</td>\n",
       "      <td>fwd</td>\n",
       "      <td>front</td>\n",
       "      <td>99.8</td>\n",
       "      <td>...</td>\n",
       "      <td>109</td>\n",
       "      <td>mpfi</td>\n",
       "      <td>3.19</td>\n",
       "      <td>3.40</td>\n",
       "      <td>10.0</td>\n",
       "      <td>102</td>\n",
       "      <td>5500</td>\n",
       "      <td>24</td>\n",
       "      <td>30</td>\n",
       "      <td>13950</td>\n",
       "    </tr>\n",
       "    <tr>\n",
       "      <th>3</th>\n",
       "      <td>2</td>\n",
       "      <td>164</td>\n",
       "      <td>audi</td>\n",
       "      <td>gas</td>\n",
       "      <td>std</td>\n",
       "      <td>four</td>\n",
       "      <td>sedan</td>\n",
       "      <td>4wd</td>\n",
       "      <td>front</td>\n",
       "      <td>99.4</td>\n",
       "      <td>...</td>\n",
       "      <td>136</td>\n",
       "      <td>mpfi</td>\n",
       "      <td>3.19</td>\n",
       "      <td>3.40</td>\n",
       "      <td>8.0</td>\n",
       "      <td>115</td>\n",
       "      <td>5500</td>\n",
       "      <td>18</td>\n",
       "      <td>22</td>\n",
       "      <td>17450</td>\n",
       "    </tr>\n",
       "    <tr>\n",
       "      <th>4</th>\n",
       "      <td>2</td>\n",
       "      <td>?</td>\n",
       "      <td>audi</td>\n",
       "      <td>gas</td>\n",
       "      <td>std</td>\n",
       "      <td>two</td>\n",
       "      <td>sedan</td>\n",
       "      <td>fwd</td>\n",
       "      <td>front</td>\n",
       "      <td>99.8</td>\n",
       "      <td>...</td>\n",
       "      <td>136</td>\n",
       "      <td>mpfi</td>\n",
       "      <td>3.19</td>\n",
       "      <td>3.40</td>\n",
       "      <td>8.5</td>\n",
       "      <td>110</td>\n",
       "      <td>5500</td>\n",
       "      <td>19</td>\n",
       "      <td>25</td>\n",
       "      <td>15250</td>\n",
       "    </tr>\n",
       "  </tbody>\n",
       "</table>\n",
       "<p>5 rows × 26 columns</p>\n",
       "</div>"
      ],
      "text/plain": [
       "   3    ?  alfa-romero  gas  std   two  convertible  rwd  front  88.6  ...  \\\n",
       "0  3    ?  alfa-romero  gas  std   two  convertible  rwd  front  88.6  ...   \n",
       "1  1    ?  alfa-romero  gas  std   two    hatchback  rwd  front  94.5  ...   \n",
       "2  2  164         audi  gas  std  four        sedan  fwd  front  99.8  ...   \n",
       "3  2  164         audi  gas  std  four        sedan  4wd  front  99.4  ...   \n",
       "4  2    ?         audi  gas  std   two        sedan  fwd  front  99.8  ...   \n",
       "\n",
       "   130  mpfi  3.47  2.68   9.0  111  5000  21  27  13495  \n",
       "0  130  mpfi  3.47  2.68   9.0  111  5000  21  27  16500  \n",
       "1  152  mpfi  2.68  3.47   9.0  154  5000  19  26  16500  \n",
       "2  109  mpfi  3.19  3.40  10.0  102  5500  24  30  13950  \n",
       "3  136  mpfi  3.19  3.40   8.0  115  5500  18  22  17450  \n",
       "4  136  mpfi  3.19  3.40   8.5  110  5500  19  25  15250  \n",
       "\n",
       "[5 rows x 26 columns]"
      ]
     },
     "execution_count": 57,
     "metadata": {},
     "output_type": "execute_result"
    }
   ],
   "source": [
    "df.head()"
   ]
  },
  {
   "cell_type": "markdown",
   "metadata": {
    "colab_type": "text",
    "id": "-X2V17ddfdUq"
   },
   "source": [
    "The first line in the dataset is just another entry of data rather than header. So we need to add the header for it."
   ]
  },
  {
   "cell_type": "markdown",
   "metadata": {
    "colab_type": "text",
    "id": "a2jykCc-fY1w"
   },
   "source": [
    "-  Add Headers for Dataset"
   ]
  },
  {
   "cell_type": "code",
   "execution_count": 58,
   "metadata": {
    "colab": {},
    "colab_type": "code",
    "id": "hPNLu-h4h4Iu"
   },
   "outputs": [],
   "source": [
    "headers = [\"symboling\",\"normalized-losses\",\"make\",\"fuel-type\",\"aspiration\", \"num-of-doors\",\"body-style\",\n",
    "         \"drive-wheels\",\"engine-location\",\"wheel-base\", \"length\",\"width\",\"height\",\"curb-weight\",\"engine-type\",\n",
    "         \"num-of-cylinders\", \"engine-size\",\"fuel-system\",\"bore\",\"stroke\",\"compression-ratio\",\"horsepower\",\n",
    "         \"peak-rpm\",\"city-mpg\",\"highway-mpg\",\"price\"]"
   ]
  },
  {
   "cell_type": "code",
   "execution_count": 59,
   "metadata": {
    "colab": {},
    "colab_type": "code",
    "id": "NYOJyeiRh86t"
   },
   "outputs": [],
   "source": [
    "df.columns = headers"
   ]
  },
  {
   "cell_type": "code",
   "execution_count": 60,
   "metadata": {
    "colab": {
     "base_uri": "https://localhost:8080/",
     "height": 276
    },
    "colab_type": "code",
    "id": "iPrUOpcCiCMx",
    "outputId": "65b1bb93-ca91-4563-8c01-bf13b48e5075"
   },
   "outputs": [
    {
     "data": {
      "text/html": [
       "<div>\n",
       "<style scoped>\n",
       "    .dataframe tbody tr th:only-of-type {\n",
       "        vertical-align: middle;\n",
       "    }\n",
       "\n",
       "    .dataframe tbody tr th {\n",
       "        vertical-align: top;\n",
       "    }\n",
       "\n",
       "    .dataframe thead th {\n",
       "        text-align: right;\n",
       "    }\n",
       "</style>\n",
       "<table border=\"1\" class=\"dataframe\">\n",
       "  <thead>\n",
       "    <tr style=\"text-align: right;\">\n",
       "      <th></th>\n",
       "      <th>symboling</th>\n",
       "      <th>normalized-losses</th>\n",
       "      <th>make</th>\n",
       "      <th>fuel-type</th>\n",
       "      <th>aspiration</th>\n",
       "      <th>num-of-doors</th>\n",
       "      <th>body-style</th>\n",
       "      <th>drive-wheels</th>\n",
       "      <th>engine-location</th>\n",
       "      <th>wheel-base</th>\n",
       "      <th>...</th>\n",
       "      <th>engine-size</th>\n",
       "      <th>fuel-system</th>\n",
       "      <th>bore</th>\n",
       "      <th>stroke</th>\n",
       "      <th>compression-ratio</th>\n",
       "      <th>horsepower</th>\n",
       "      <th>peak-rpm</th>\n",
       "      <th>city-mpg</th>\n",
       "      <th>highway-mpg</th>\n",
       "      <th>price</th>\n",
       "    </tr>\n",
       "  </thead>\n",
       "  <tbody>\n",
       "    <tr>\n",
       "      <th>0</th>\n",
       "      <td>3</td>\n",
       "      <td>?</td>\n",
       "      <td>alfa-romero</td>\n",
       "      <td>gas</td>\n",
       "      <td>std</td>\n",
       "      <td>two</td>\n",
       "      <td>convertible</td>\n",
       "      <td>rwd</td>\n",
       "      <td>front</td>\n",
       "      <td>88.6</td>\n",
       "      <td>...</td>\n",
       "      <td>130</td>\n",
       "      <td>mpfi</td>\n",
       "      <td>3.47</td>\n",
       "      <td>2.68</td>\n",
       "      <td>9.0</td>\n",
       "      <td>111</td>\n",
       "      <td>5000</td>\n",
       "      <td>21</td>\n",
       "      <td>27</td>\n",
       "      <td>16500</td>\n",
       "    </tr>\n",
       "    <tr>\n",
       "      <th>1</th>\n",
       "      <td>1</td>\n",
       "      <td>?</td>\n",
       "      <td>alfa-romero</td>\n",
       "      <td>gas</td>\n",
       "      <td>std</td>\n",
       "      <td>two</td>\n",
       "      <td>hatchback</td>\n",
       "      <td>rwd</td>\n",
       "      <td>front</td>\n",
       "      <td>94.5</td>\n",
       "      <td>...</td>\n",
       "      <td>152</td>\n",
       "      <td>mpfi</td>\n",
       "      <td>2.68</td>\n",
       "      <td>3.47</td>\n",
       "      <td>9.0</td>\n",
       "      <td>154</td>\n",
       "      <td>5000</td>\n",
       "      <td>19</td>\n",
       "      <td>26</td>\n",
       "      <td>16500</td>\n",
       "    </tr>\n",
       "    <tr>\n",
       "      <th>2</th>\n",
       "      <td>2</td>\n",
       "      <td>164</td>\n",
       "      <td>audi</td>\n",
       "      <td>gas</td>\n",
       "      <td>std</td>\n",
       "      <td>four</td>\n",
       "      <td>sedan</td>\n",
       "      <td>fwd</td>\n",
       "      <td>front</td>\n",
       "      <td>99.8</td>\n",
       "      <td>...</td>\n",
       "      <td>109</td>\n",
       "      <td>mpfi</td>\n",
       "      <td>3.19</td>\n",
       "      <td>3.40</td>\n",
       "      <td>10.0</td>\n",
       "      <td>102</td>\n",
       "      <td>5500</td>\n",
       "      <td>24</td>\n",
       "      <td>30</td>\n",
       "      <td>13950</td>\n",
       "    </tr>\n",
       "    <tr>\n",
       "      <th>3</th>\n",
       "      <td>2</td>\n",
       "      <td>164</td>\n",
       "      <td>audi</td>\n",
       "      <td>gas</td>\n",
       "      <td>std</td>\n",
       "      <td>four</td>\n",
       "      <td>sedan</td>\n",
       "      <td>4wd</td>\n",
       "      <td>front</td>\n",
       "      <td>99.4</td>\n",
       "      <td>...</td>\n",
       "      <td>136</td>\n",
       "      <td>mpfi</td>\n",
       "      <td>3.19</td>\n",
       "      <td>3.40</td>\n",
       "      <td>8.0</td>\n",
       "      <td>115</td>\n",
       "      <td>5500</td>\n",
       "      <td>18</td>\n",
       "      <td>22</td>\n",
       "      <td>17450</td>\n",
       "    </tr>\n",
       "    <tr>\n",
       "      <th>4</th>\n",
       "      <td>2</td>\n",
       "      <td>?</td>\n",
       "      <td>audi</td>\n",
       "      <td>gas</td>\n",
       "      <td>std</td>\n",
       "      <td>two</td>\n",
       "      <td>sedan</td>\n",
       "      <td>fwd</td>\n",
       "      <td>front</td>\n",
       "      <td>99.8</td>\n",
       "      <td>...</td>\n",
       "      <td>136</td>\n",
       "      <td>mpfi</td>\n",
       "      <td>3.19</td>\n",
       "      <td>3.40</td>\n",
       "      <td>8.5</td>\n",
       "      <td>110</td>\n",
       "      <td>5500</td>\n",
       "      <td>19</td>\n",
       "      <td>25</td>\n",
       "      <td>15250</td>\n",
       "    </tr>\n",
       "  </tbody>\n",
       "</table>\n",
       "<p>5 rows × 26 columns</p>\n",
       "</div>"
      ],
      "text/plain": [
       "   symboling normalized-losses         make fuel-type aspiration num-of-doors  \\\n",
       "0          3                 ?  alfa-romero       gas        std          two   \n",
       "1          1                 ?  alfa-romero       gas        std          two   \n",
       "2          2               164         audi       gas        std         four   \n",
       "3          2               164         audi       gas        std         four   \n",
       "4          2                 ?         audi       gas        std          two   \n",
       "\n",
       "    body-style drive-wheels engine-location  wheel-base  ...  engine-size  \\\n",
       "0  convertible          rwd           front        88.6  ...          130   \n",
       "1    hatchback          rwd           front        94.5  ...          152   \n",
       "2        sedan          fwd           front        99.8  ...          109   \n",
       "3        sedan          4wd           front        99.4  ...          136   \n",
       "4        sedan          fwd           front        99.8  ...          136   \n",
       "\n",
       "   fuel-system  bore  stroke compression-ratio horsepower  peak-rpm city-mpg  \\\n",
       "0         mpfi  3.47    2.68               9.0        111      5000       21   \n",
       "1         mpfi  2.68    3.47               9.0        154      5000       19   \n",
       "2         mpfi  3.19    3.40              10.0        102      5500       24   \n",
       "3         mpfi  3.19    3.40               8.0        115      5500       18   \n",
       "4         mpfi  3.19    3.40               8.5        110      5500       19   \n",
       "\n",
       "  highway-mpg  price  \n",
       "0          27  16500  \n",
       "1          26  16500  \n",
       "2          30  13950  \n",
       "3          22  17450  \n",
       "4          25  15250  \n",
       "\n",
       "[5 rows x 26 columns]"
      ]
     },
     "execution_count": 60,
     "metadata": {},
     "output_type": "execute_result"
    }
   ],
   "source": [
    "df.head()"
   ]
  },
  {
   "cell_type": "markdown",
   "metadata": {
    "colab_type": "text",
    "id": "cNjTS7ZaiT2O"
   },
   "source": [
    "<h2 id=\"import_data\">Data Preprocessing</h2>\n"
   ]
  },
  {
   "cell_type": "markdown",
   "metadata": {
    "colab_type": "text",
    "id": "bgtxz7ALAQhy"
   },
   "source": [
    "- Identify and Handle Missing Data"
   ]
  },
  {
   "cell_type": "markdown",
   "metadata": {
    "colab_type": "text",
    "id": "N4u0SVrQjA-p"
   },
   "source": [
    "In the dataset, there are missing values with question marks. In order to evaluate the missing values, firstly we convert all question marks to NaN; Then, we use isnull method to identify all mising values and save the result to a new dataframe"
   ]
  },
  {
   "cell_type": "code",
   "execution_count": 61,
   "metadata": {
    "colab": {
     "base_uri": "https://localhost:8080/",
     "height": 1821
    },
    "colab_type": "code",
    "id": "IKa7S-pGifvw",
    "outputId": "b543e213-6b3a-44cc-b2b5-f0ece75192e6",
    "scrolled": false
   },
   "outputs": [
    {
     "data": {
      "text/plain": [
       "normalized-losses    40\n",
       "num-of-doors          2\n",
       "bore                  4\n",
       "stroke                4\n",
       "horsepower            2\n",
       "peak-rpm              2\n",
       "price                 4\n",
       "dtype: int64"
      ]
     },
     "execution_count": 61,
     "metadata": {},
     "output_type": "execute_result"
    }
   ],
   "source": [
    "import numpy as np\n",
    "df.replace('?',np.nan, inplace=True)\n",
    "\n",
    "null_counts = df.isnull().sum(axis=0)\n",
    "missing_columns = null_counts[null_counts>0]\n",
    "missing_columns"
   ]
  },
  {
   "cell_type": "markdown",
   "metadata": {
    "colab_type": "text",
    "id": "W9vrJBtSrxTx"
   },
   "source": [
    "We identify there are missing values in columns \"normalized-losses\", \"num-of-doors\", 'bore', 'stroke', 'horsepower' and 'price'. Usually, there are two ways to handle missing values:\n",
    "\n",
    "1. Drop the entire row or column\n",
    "2. Replace the missing value with estimates"
   ]
  },
  {
   "cell_type": "markdown",
   "metadata": {
    "colab_type": "text",
    "id": "Mq35HsZTAfqq"
   },
   "source": [
    "For numerical columns \"normalized-losses\", \"bore\", \"stroke\" and \"horsepower\", we are going to replace the missing values with the average of the valid entries for each variable."
   ]
  },
  {
   "cell_type": "code",
   "execution_count": 62,
   "metadata": {
    "colab": {},
    "colab_type": "code",
    "id": "b7g9yA2jA8pe"
   },
   "outputs": [],
   "source": [
    "missing_values1 = [\"normalized-losses\", \"bore\", \"stroke\", \"peak-rpm\",\"horsepower\"]\n",
    "for column in missing_values1:  \n",
    "  average_column = df[column].astype('float').mean(skipna=True)\n",
    "  df[column].replace(np.nan,average_column,inplace = True)\n"
   ]
  },
  {
   "cell_type": "markdown",
   "metadata": {
    "colab_type": "text",
    "id": "cglvPA-CE2dD"
   },
   "source": [
    "For the categorial column \"num-of-doors\", we will use the most often value to replace the missing values."
   ]
  },
  {
   "cell_type": "code",
   "execution_count": 63,
   "metadata": {
    "colab": {},
    "colab_type": "code",
    "id": "J4C36KnRFI-v"
   },
   "outputs": [],
   "source": [
    "missing_values2 = df[\"num-of-doors\"].value_counts().idxmax()\n",
    "df[\"num-of-doors\"].replace(np.nan,missing_values2,inplace = True)"
   ]
  },
  {
   "cell_type": "markdown",
   "metadata": {
    "colab_type": "text",
    "id": "Y_UpDSxksq0F"
   },
   "source": [
    "For missing values in column \"price\", we will drop the rows that contain missing value. Because price is our target variable, the entry without price is useless for our goal of predicting price."
   ]
  },
  {
   "cell_type": "code",
   "execution_count": 64,
   "metadata": {
    "colab": {},
    "colab_type": "code",
    "id": "5oHFzX-Wsp4B"
   },
   "outputs": [],
   "source": [
    "df.dropna(subset=['price'],axis=0,inplace = True)\n"
   ]
  },
  {
   "cell_type": "markdown",
   "metadata": {
    "colab_type": "text",
    "id": "5Dl4E6d6VRKk"
   },
   "source": [
    "We will reset the index after dropping some rows."
   ]
  },
  {
   "cell_type": "code",
   "execution_count": 65,
   "metadata": {
    "colab": {},
    "colab_type": "code",
    "id": "uFx9zB91TjYU"
   },
   "outputs": [],
   "source": [
    "df.reset_index(drop=True, inplace=True)"
   ]
  },
  {
   "cell_type": "markdown",
   "metadata": {
    "colab_type": "text",
    "id": "UNswU9Zjc4-Q"
   },
   "source": [
    "- Explore Datatypes and Correct Mismatches\n",
    "\n",
    "We will correct the mismatches of data types after we fix the missing values. Because question marks or nan values will cause some issues when we try to convert them to float-type."
   ]
  },
  {
   "cell_type": "code",
   "execution_count": 66,
   "metadata": {
    "colab": {
     "base_uri": "https://localhost:8080/",
     "height": 456
    },
    "colab_type": "code",
    "id": "8OkC-Konc9mm",
    "outputId": "c36341fc-7e88-419b-bb27-728a24e996ae"
   },
   "outputs": [
    {
     "data": {
      "text/plain": [
       "symboling              int64\n",
       "normalized-losses     object\n",
       "make                  object\n",
       "fuel-type             object\n",
       "aspiration            object\n",
       "num-of-doors          object\n",
       "body-style            object\n",
       "drive-wheels          object\n",
       "engine-location       object\n",
       "wheel-base           float64\n",
       "length               float64\n",
       "width                float64\n",
       "height               float64\n",
       "curb-weight            int64\n",
       "engine-type           object\n",
       "num-of-cylinders      object\n",
       "engine-size            int64\n",
       "fuel-system           object\n",
       "bore                  object\n",
       "stroke                object\n",
       "compression-ratio    float64\n",
       "horsepower            object\n",
       "peak-rpm              object\n",
       "city-mpg               int64\n",
       "highway-mpg            int64\n",
       "price                 object\n",
       "dtype: object"
      ]
     },
     "execution_count": 66,
     "metadata": {},
     "output_type": "execute_result"
    }
   ],
   "source": [
    "df.dtypes"
   ]
  },
  {
   "cell_type": "code",
   "execution_count": 67,
   "metadata": {
    "colab": {},
    "colab_type": "code",
    "id": "-MIdqAycdoye"
   },
   "outputs": [],
   "source": [
    "data_types = [\"normalized-losses\",\"bore\",\"stroke\",\"horsepower\",\"peak-rpm\",\"price\"]\n",
    "for column in data_types:\n",
    "  df[column] = df[column].astype(\"float\")"
   ]
  },
  {
   "cell_type": "markdown",
   "metadata": {
    "colab_type": "text",
    "id": "AwgqQ1SrLMM4"
   },
   "source": [
    "- Standardize Dataset"
   ]
  },
  {
   "cell_type": "markdown",
   "metadata": {
    "colab_type": "text",
    "id": "hhpK5pBAPj6E"
   },
   "source": [
    "In our dataset, the units for \"wheel-base\", \"length\", \"width\" and \"height\" are inch. If the readers of the analaysis is from a country where meter is commonly used, we need to convert them to meters"
   ]
  },
  {
   "cell_type": "code",
   "execution_count": 68,
   "metadata": {
    "colab": {},
    "colab_type": "code",
    "id": "6Pdj3OzBtDCi"
   },
   "outputs": [],
   "source": [
    "df[\"wheel-base-M\"] = df[\"wheel-base\"]*0.0254\n",
    "df[\"length-M\"] = df[\"length\"]*0.0254\n",
    "df[\"width-M\"] = df[\"width\"]*0.0254\n",
    "df[\"height-M\"] = df[\"height\"]*0.0254"
   ]
  },
  {
   "cell_type": "markdown",
   "metadata": {
    "colab_type": "text",
    "id": "uN9gJI4KVXY8"
   },
   "source": [
    "- Normalize Dataset"
   ]
  },
  {
   "cell_type": "markdown",
   "metadata": {
    "colab_type": "text",
    "id": "HQ3vsLvUTEcS"
   },
   "source": [
    "Sometimes, in a dataset, there are variables with very different ranges. For example, the variable \"length\" has a larger range than the range of \"bore\". Due to the nature of data, \"length\" will have more influence on the result which is the predicted price than \"bore\". But it doesn't mean \"length\" is a better predictor for car prices than \"bore\". Therefore, we need to normalize our dataset to make variables have similar ranges to make meaningful comparison.\n",
    "\n",
    "There are some ways we can normalize our data:\n",
    "\n",
    "1. Simple feature scaling - divide each value in a feature by the max value for the feature;\n",
    "2. Min-max method - subtract each value in a feature by the min value of the feature, then divide it by the range of the feature;\n",
    "3. Z-score method - subtract each value in a feature by the average of the feature, then divide it by the standard deviation."
   ]
  },
  {
   "cell_type": "code",
   "execution_count": 69,
   "metadata": {
    "colab": {},
    "colab_type": "code",
    "id": "aOQ7aF5lVVWx"
   },
   "outputs": [],
   "source": [
    "normalized_values = [\"wheel-base\", \"length\", \"width\", \"height\", \"curb-weight\"]\n",
    "for column in normalized_values:\n",
    "  df[column] = df[column]/df[column].max()"
   ]
  },
  {
   "cell_type": "markdown",
   "metadata": {
    "colab_type": "text",
    "id": "E3qWONbDX9iY"
   },
   "source": [
    "- Perform Data Binning"
   ]
  },
  {
   "cell_type": "markdown",
   "metadata": {
    "colab_type": "text",
    "id": "j41pdZ3oYRX-"
   },
   "source": [
    "By performing data binning, we group numerical data into a smaller number of binns. we can get the distribution of the target variable in each bin, so that we have a better understanding of how the variable affects the result. We can first draw a histogram for the variable \"engine-size\" to get an intuition of the distribution of \"engine-size\"."
   ]
  },
  {
   "cell_type": "code",
   "execution_count": 70,
   "metadata": {
    "colab": {
     "base_uri": "https://localhost:8080/",
     "height": 295
    },
    "colab_type": "code",
    "id": "heJ4L7jsY2BV",
    "outputId": "c6bc4949-a180-4a4e-9e2b-68e6530c7d7b"
   },
   "outputs": [
    {
     "data": {
      "image/png": "[encoded data removed]",
      "text/plain": [
       "<Figure size 432x288 with 1 Axes>"
      ]
     },
     "metadata": {
      "needs_background": "light"
     },
     "output_type": "display_data"
    }
   ],
   "source": [
    "import matplotlib as plt\n",
    "import matplotlib.pyplot\n",
    "plt.pyplot.hist(df['engine-size'])\n",
    "plt.pyplot.xlabel('engine-size')\n",
    "plt.pyplot.ylabel('counts')\n",
    "plt.pyplot.title('The Distribution of Engine Size')\n",
    "plt.pyplot.show()"
   ]
  },
  {
   "cell_type": "markdown",
   "metadata": {
    "colab_type": "text",
    "id": "_K-N9AaPueyg"
   },
   "source": [
    "Then we split the enginze-size into three bins based on the value and make boxplot for each bin and see the distribution of the price within each bin."
   ]
  },
  {
   "cell_type": "code",
   "execution_count": 71,
   "metadata": {
    "colab": {
     "base_uri": "https://localhost:8080/",
     "height": 295
    },
    "colab_type": "code",
    "id": "4l9LuVIetgwT",
    "outputId": "6faf5239-f286-447f-d9db-9dd602c9c601"
   },
   "outputs": [
    {
     "data": {
      "image/png": "[encoded data removed]",
      "text/plain": [
       "<Figure size 432x288 with 1 Axes>"
      ]
     },
     "metadata": {
      "needs_background": "light"
     },
     "output_type": "display_data"
    }
   ],
   "source": [
    "engine_size_bins = np.linspace(min(df['engine-size']),max(df['engine-size']),4)\n",
    "group_name1 = ['Small', 'Medium','Large']\n",
    "df['engine-size-binned']=pd.cut(df['engine-size'],engine_size_bins,labels = group_name1,include_lowest=True)\n",
    "\n",
    "import seaborn as sns\n",
    "sns.boxplot(x= 'engine-size-binned', y='price',data=df)\n",
    "plt.pyplot.title('The Distribution of Price for Each Engine-Size Group')\n",
    "plt.pyplot.show()\n"
   ]
  },
  {
   "cell_type": "code",
   "execution_count": null,
   "metadata": {},
   "outputs": [],
   "source": []
  },
  {
   "cell_type": "markdown",
   "metadata": {
    "colab_type": "text",
    "id": "TcG9nWmNvsIC"
   },
   "source": [
    "From the plot, we get an initial indication that the larger a car's engine size is, the higher the car's price is. In addition, we notice that there are outliers in the small engine-size group. For outliers which are abnormal far away from other values in the sample, there may be a couple of reasons, including measurement or recording error, or just a truthful outcome from the set's definition. Since the data points are for one group of the categorical variable and within the range of the variable, we will keep them as they are rather than drop or replace them. "
   ]
  },
  {
   "cell_type": "markdown",
   "metadata": {
    "colab_type": "text",
    "id": "Os4tofHSwB7a"
   },
   "source": [
    "Next we repeat the process for the variable \"horsepower\":\n",
    "\n",
    "1. Daw a histogram for feature \"horsepower\" \n",
    "2. Create a new column for binned \"horsepower\"\n",
    "3. Make plots for each bin of \"horsepower\""
   ]
  },
  {
   "cell_type": "code",
   "execution_count": 72,
   "metadata": {
    "colab": {
     "base_uri": "https://localhost:8080/",
     "height": 295
    },
    "colab_type": "code",
    "id": "5Hul2NcFwKIP",
    "outputId": "c1920863-ae30-4132-ec77-daa2ba045cb3"
   },
   "outputs": [
    {
     "data": {
      "image/png": "[encoded data removed]",
      "text/plain": [
       "<Figure size 432x288 with 1 Axes>"
      ]
     },
     "metadata": {
      "needs_background": "light"
     },
     "output_type": "display_data"
    }
   ],
   "source": [
    "plt.pyplot.hist(df['horsepower'])\n",
    "plt.pyplot.xlabel('horsepower')\n",
    "plt.pyplot.ylabel('counts')\n",
    "plt.pyplot.title('The Distribution of Horsepower')\n",
    "plt.pyplot.show()"
   ]
  },
  {
   "cell_type": "code",
   "execution_count": 73,
   "metadata": {
    "colab": {
     "base_uri": "https://localhost:8080/",
     "height": 295
    },
    "colab_type": "code",
    "id": "Y2FdIKfFxJQ2",
    "outputId": "79a145bf-c371-47b8-81f6-c7fe7e8c814f"
   },
   "outputs": [
    {
     "data": {
      "image/png": "[encoded data removed]",
      "text/plain": [
       "<Figure size 432x288 with 1 Axes>"
      ]
     },
     "metadata": {
      "needs_background": "light"
     },
     "output_type": "display_data"
    }
   ],
   "source": [
    "horsepower_bins =np.linspace(min(df['horsepower']),max(df['horsepower']),4)\n",
    "group_name2 = ['Low','Medium','High']\n",
    "df['horsepower-binned'] = pd.cut(df['horsepower'],horsepower_bins,labels=group_name2,include_lowest=True)\n",
    "\n",
    "sns.boxplot(x='horsepower-binned', y='price', data=df)\n",
    "plt.pyplot.title('The Distribution of Price for Each Horsepower Group')\n",
    "plt.pyplot.show()\n",
    "\n"
   ]
  },
  {
   "cell_type": "markdown",
   "metadata": {
    "colab_type": "text",
    "id": "iDfrtH3byW7I"
   },
   "source": [
    "From the boxplot, we can see that cars with higher horsepower tends to have higher price than price of lower-horsepowered car. Also, we notice there are outliers in both of the low and high horsepower group. Since they are within the range of horsepower variable, we can keep them as they are for now."
   ]
  },
  {
   "cell_type": "markdown",
   "metadata": {
    "colab_type": "text",
    "id": "MPLSjALFzRBO"
   },
   "source": [
    "- Create Dummy Variables\n",
    "\n",
    "Sometimes, we need to convert categorical variables to numerical variables since some models only take numbers as input. A solution is to create a dummy variable for each category in the categorical variable. The number value for a dummy variable is just used to label category and has no inherent meaning."
   ]
  },
  {
   "cell_type": "markdown",
   "metadata": {
    "colab_type": "text",
    "id": "F5QvpIhv5sPO"
   },
   "source": [
    "We use method \"value_counts\" to get a short summary of all the categorial variables in our dataset and then make plots for some of the variables to get an intuition of the distribution of car price within each category for a certain categorical variable."
   ]
  },
  {
   "cell_type": "code",
   "execution_count": 74,
   "metadata": {
    "colab": {
     "base_uri": "https://localhost:8080/",
     "height": 911
    },
    "colab_type": "code",
    "id": "Sx2mkR3UysQ3",
    "outputId": "55a2fc6d-a105-4a93-b296-177b22334a31"
   },
   "outputs": [
    {
     "name": "stdout",
     "output_type": "stream",
     "text": [
      "fuel-type\n",
      "gas       180\n",
      "diesel     20\n",
      "Name: fuel-type, dtype: int64\n",
      "\n",
      "aspiration\n",
      "std      164\n",
      "turbo     36\n",
      "Name: aspiration, dtype: int64\n",
      "\n",
      "num-of-doors\n",
      "four    115\n",
      "two      85\n",
      "Name: num-of-doors, dtype: int64\n",
      "\n",
      "body-style\n",
      "sedan          94\n",
      "hatchback      68\n",
      "wagon          25\n",
      "hardtop         8\n",
      "convertible     5\n",
      "Name: body-style, dtype: int64\n",
      "\n",
      "drive-wheels\n",
      "fwd    118\n",
      "rwd     74\n",
      "4wd      8\n",
      "Name: drive-wheels, dtype: int64\n",
      "\n",
      "engine-location\n",
      "front    197\n",
      "rear       3\n",
      "Name: engine-location, dtype: int64\n",
      "\n",
      "num-of-cylinders\n",
      "four      156\n",
      "six        24\n",
      "five       10\n",
      "two         4\n",
      "eight       4\n",
      "twelve      1\n",
      "three       1\n",
      "Name: num-of-cylinders, dtype: int64\n",
      "\n",
      "fuel-system\n",
      "mpfi    91\n",
      "2bbl    64\n",
      "idi     20\n",
      "1bbl    11\n",
      "spdi     9\n",
      "4bbl     3\n",
      "mfi      1\n",
      "spfi     1\n",
      "Name: fuel-system, dtype: int64\n",
      "\n"
     ]
    }
   ],
   "source": [
    "df.head()\n",
    "dummy_variables = ['fuel-type','aspiration','num-of-doors','body-style','drive-wheels','engine-location','num-of-cylinders','fuel-system']\n",
    "for column in dummy_variables:\n",
    "  print(column)\n",
    "  print(df[column].value_counts())\n",
    "  print('')  "
   ]
  },
  {
   "cell_type": "code",
   "execution_count": 75,
   "metadata": {
    "colab": {
     "base_uri": "https://localhost:8080/",
     "height": 295
    },
    "colab_type": "code",
    "id": "gLJT1FgC4AXs",
    "outputId": "bff6d769-92b2-420e-a8f4-405e1c522b81"
   },
   "outputs": [
    {
     "data": {
      "image/png": "[encoded data removed]",
      "text/plain": [
       "<Figure size 432x288 with 1 Axes>"
      ]
     },
     "metadata": {
      "needs_background": "light"
     },
     "output_type": "display_data"
    }
   ],
   "source": [
    "  sns.boxplot(x='fuel-type', y='price',data=df)\n",
    "  plt.pyplot.title('The Distribution of Price for Each Fuel-type Group')\n",
    "  plt.pyplot.show() "
   ]
  },
  {
   "cell_type": "markdown",
   "metadata": {
    "colab_type": "text",
    "id": "XlkPU_be-YcU"
   },
   "source": [
    "From the plot, we notice that there is no significant difference in the price distribution for each group of the fuel-type."
   ]
  },
  {
   "cell_type": "code",
   "execution_count": 76,
   "metadata": {
    "colab": {
     "base_uri": "https://localhost:8080/",
     "height": 295
    },
    "colab_type": "code",
    "id": "3yOPngcV4_5e",
    "outputId": "82724652-0d4e-42b6-9a16-4f49bc4fe5cb"
   },
   "outputs": [
    {
     "data": {
      "image/png": "[encoded data removed]",
      "text/plain": [
       "<Figure size 432x288 with 1 Axes>"
      ]
     },
     "metadata": {
      "needs_background": "light"
     },
     "output_type": "display_data"
    }
   ],
   "source": [
    " sns.boxplot(x='body-style', y='price',data=df)\n",
    " plt.pyplot.title('The Distribution of Price for Each Body-style Group')\n",
    " plt.pyplot.show() "
   ]
  },
  {
   "cell_type": "markdown",
   "metadata": {
    "colab_type": "text",
    "id": "IfKl88Xv_sGx"
   },
   "source": [
    "From the plot, we notice that the price distribution for convertible and hardtop are similar and the distribution for hatcheback, sedan and wagon are similar. but the distribution for these two are very different."
   ]
  },
  {
   "cell_type": "code",
   "execution_count": 77,
   "metadata": {
    "colab": {
     "base_uri": "https://localhost:8080/",
     "height": 295
    },
    "colab_type": "code",
    "id": "4wbvskA25KGb",
    "outputId": "32ce2135-f8f2-46c2-a71c-3fc9f9fbe107"
   },
   "outputs": [
    {
     "data": {
      "image/png": "[encoded data removed]",
      "text/plain": [
       "<Figure size 432x288 with 1 Axes>"
      ]
     },
     "metadata": {
      "needs_background": "light"
     },
     "output_type": "display_data"
    }
   ],
   "source": [
    " sns.boxplot(x='engine-location', y='price',data=df)\n",
    " plt.pyplot.title('The Distribution of Price for Each Engine-location Group')\n",
    " plt.pyplot.show() "
   ]
  },
  {
   "cell_type": "markdown",
   "metadata": {
    "colab_type": "text",
    "id": "JRtJ13hRBSa8"
   },
   "source": [
    "From the plot above, we can see the price for different engine location is significantly different."
   ]
  },
  {
   "cell_type": "code",
   "execution_count": 78,
   "metadata": {
    "colab": {
     "base_uri": "https://localhost:8080/",
     "height": 295
    },
    "colab_type": "code",
    "id": "Zs-RFxJ15f4D",
    "outputId": "6d8e0554-23db-49c7-98c7-fb6bd57aa654"
   },
   "outputs": [
    {
     "data": {
      "image/png": "[encoded data removed]",
      "text/plain": [
       "<Figure size 432x288 with 1 Axes>"
      ]
     },
     "metadata": {
      "needs_background": "light"
     },
     "output_type": "display_data"
    }
   ],
   "source": [
    " sns.boxplot(x='drive-wheels', y='price',data=df)\n",
    " plt.pyplot.title('The Distribution of Price for Each Drive-wheels Group')\n",
    " plt.pyplot.show() "
   ]
  },
  {
   "cell_type": "markdown",
   "metadata": {
    "colab_type": "text",
    "id": "xiC0I_0i6jX8"
   },
   "source": [
    "From the plot, we notice that the distribution of price for forward drive-wheels and four drive-wheels are similar, but they are very different from rear drive-wheel.\n",
    "\n",
    "Since the distribution of the price for each category of feature \"engine location' is significantly different, which means the feature is potentially a good predictor for price. We'd like to convert the feature from object-typed data to numerical data by using dummy variables."
   ]
  },
  {
   "cell_type": "code",
   "execution_count": 79,
   "metadata": {
    "colab": {
     "base_uri": "https://localhost:8080/",
     "height": 276
    },
    "colab_type": "code",
    "id": "3FqP8ytM6i5S",
    "outputId": "4483f389-c9ce-4e53-861b-2a88ae3cbb27"
   },
   "outputs": [
    {
     "data": {
      "text/html": [
       "<div>\n",
       "<style scoped>\n",
       "    .dataframe tbody tr th:only-of-type {\n",
       "        vertical-align: middle;\n",
       "    }\n",
       "\n",
       "    .dataframe tbody tr th {\n",
       "        vertical-align: top;\n",
       "    }\n",
       "\n",
       "    .dataframe thead th {\n",
       "        text-align: right;\n",
       "    }\n",
       "</style>\n",
       "<table border=\"1\" class=\"dataframe\">\n",
       "  <thead>\n",
       "    <tr style=\"text-align: right;\">\n",
       "      <th></th>\n",
       "      <th>symboling</th>\n",
       "      <th>normalized-losses</th>\n",
       "      <th>make</th>\n",
       "      <th>fuel-type</th>\n",
       "      <th>aspiration</th>\n",
       "      <th>num-of-doors</th>\n",
       "      <th>body-style</th>\n",
       "      <th>drive-wheels</th>\n",
       "      <th>engine-location</th>\n",
       "      <th>wheel-base</th>\n",
       "      <th>...</th>\n",
       "      <th>highway-mpg</th>\n",
       "      <th>price</th>\n",
       "      <th>wheel-base-M</th>\n",
       "      <th>length-M</th>\n",
       "      <th>width-M</th>\n",
       "      <th>height-M</th>\n",
       "      <th>engine-size-binned</th>\n",
       "      <th>horsepower-binned</th>\n",
       "      <th>front</th>\n",
       "      <th>rear</th>\n",
       "    </tr>\n",
       "  </thead>\n",
       "  <tbody>\n",
       "    <tr>\n",
       "      <th>0</th>\n",
       "      <td>3</td>\n",
       "      <td>122.0</td>\n",
       "      <td>alfa-romero</td>\n",
       "      <td>gas</td>\n",
       "      <td>std</td>\n",
       "      <td>two</td>\n",
       "      <td>convertible</td>\n",
       "      <td>rwd</td>\n",
       "      <td>front</td>\n",
       "      <td>0.732837</td>\n",
       "      <td>...</td>\n",
       "      <td>27</td>\n",
       "      <td>16500.0</td>\n",
       "      <td>2.25044</td>\n",
       "      <td>4.28752</td>\n",
       "      <td>1.62814</td>\n",
       "      <td>1.23952</td>\n",
       "      <td>Small</td>\n",
       "      <td>Low</td>\n",
       "      <td>1</td>\n",
       "      <td>0</td>\n",
       "    </tr>\n",
       "    <tr>\n",
       "      <th>1</th>\n",
       "      <td>1</td>\n",
       "      <td>122.0</td>\n",
       "      <td>alfa-romero</td>\n",
       "      <td>gas</td>\n",
       "      <td>std</td>\n",
       "      <td>two</td>\n",
       "      <td>hatchback</td>\n",
       "      <td>rwd</td>\n",
       "      <td>front</td>\n",
       "      <td>0.781638</td>\n",
       "      <td>...</td>\n",
       "      <td>26</td>\n",
       "      <td>16500.0</td>\n",
       "      <td>2.40030</td>\n",
       "      <td>4.34848</td>\n",
       "      <td>1.66370</td>\n",
       "      <td>1.33096</td>\n",
       "      <td>Medium</td>\n",
       "      <td>Medium</td>\n",
       "      <td>1</td>\n",
       "      <td>0</td>\n",
       "    </tr>\n",
       "    <tr>\n",
       "      <th>2</th>\n",
       "      <td>2</td>\n",
       "      <td>164.0</td>\n",
       "      <td>audi</td>\n",
       "      <td>gas</td>\n",
       "      <td>std</td>\n",
       "      <td>four</td>\n",
       "      <td>sedan</td>\n",
       "      <td>fwd</td>\n",
       "      <td>front</td>\n",
       "      <td>0.825476</td>\n",
       "      <td>...</td>\n",
       "      <td>30</td>\n",
       "      <td>13950.0</td>\n",
       "      <td>2.53492</td>\n",
       "      <td>4.48564</td>\n",
       "      <td>1.68148</td>\n",
       "      <td>1.37922</td>\n",
       "      <td>Small</td>\n",
       "      <td>Low</td>\n",
       "      <td>1</td>\n",
       "      <td>0</td>\n",
       "    </tr>\n",
       "    <tr>\n",
       "      <th>3</th>\n",
       "      <td>2</td>\n",
       "      <td>164.0</td>\n",
       "      <td>audi</td>\n",
       "      <td>gas</td>\n",
       "      <td>std</td>\n",
       "      <td>four</td>\n",
       "      <td>sedan</td>\n",
       "      <td>4wd</td>\n",
       "      <td>front</td>\n",
       "      <td>0.822167</td>\n",
       "      <td>...</td>\n",
       "      <td>22</td>\n",
       "      <td>17450.0</td>\n",
       "      <td>2.52476</td>\n",
       "      <td>4.48564</td>\n",
       "      <td>1.68656</td>\n",
       "      <td>1.37922</td>\n",
       "      <td>Small</td>\n",
       "      <td>Low</td>\n",
       "      <td>1</td>\n",
       "      <td>0</td>\n",
       "    </tr>\n",
       "    <tr>\n",
       "      <th>4</th>\n",
       "      <td>2</td>\n",
       "      <td>122.0</td>\n",
       "      <td>audi</td>\n",
       "      <td>gas</td>\n",
       "      <td>std</td>\n",
       "      <td>two</td>\n",
       "      <td>sedan</td>\n",
       "      <td>fwd</td>\n",
       "      <td>front</td>\n",
       "      <td>0.825476</td>\n",
       "      <td>...</td>\n",
       "      <td>25</td>\n",
       "      <td>15250.0</td>\n",
       "      <td>2.53492</td>\n",
       "      <td>4.50342</td>\n",
       "      <td>1.68402</td>\n",
       "      <td>1.34874</td>\n",
       "      <td>Small</td>\n",
       "      <td>Low</td>\n",
       "      <td>1</td>\n",
       "      <td>0</td>\n",
       "    </tr>\n",
       "  </tbody>\n",
       "</table>\n",
       "<p>5 rows × 34 columns</p>\n",
       "</div>"
      ],
      "text/plain": [
       "   symboling  normalized-losses         make fuel-type aspiration  \\\n",
       "0          3              122.0  alfa-romero       gas        std   \n",
       "1          1              122.0  alfa-romero       gas        std   \n",
       "2          2              164.0         audi       gas        std   \n",
       "3          2              164.0         audi       gas        std   \n",
       "4          2              122.0         audi       gas        std   \n",
       "\n",
       "  num-of-doors   body-style drive-wheels engine-location  wheel-base  ...  \\\n",
       "0          two  convertible          rwd           front    0.732837  ...   \n",
       "1          two    hatchback          rwd           front    0.781638  ...   \n",
       "2         four        sedan          fwd           front    0.825476  ...   \n",
       "3         four        sedan          4wd           front    0.822167  ...   \n",
       "4          two        sedan          fwd           front    0.825476  ...   \n",
       "\n",
       "   highway-mpg    price  wheel-base-M  length-M  width-M height-M  \\\n",
       "0           27  16500.0       2.25044   4.28752  1.62814  1.23952   \n",
       "1           26  16500.0       2.40030   4.34848  1.66370  1.33096   \n",
       "2           30  13950.0       2.53492   4.48564  1.68148  1.37922   \n",
       "3           22  17450.0       2.52476   4.48564  1.68656  1.37922   \n",
       "4           25  15250.0       2.53492   4.50342  1.68402  1.34874   \n",
       "\n",
       "   engine-size-binned horsepower-binned  front  rear  \n",
       "0               Small               Low      1     0  \n",
       "1              Medium            Medium      1     0  \n",
       "2               Small               Low      1     0  \n",
       "3               Small               Low      1     0  \n",
       "4               Small               Low      1     0  \n",
       "\n",
       "[5 rows x 34 columns]"
      ]
     },
     "execution_count": 79,
     "metadata": {},
     "output_type": "execute_result"
    }
   ],
   "source": [
    "dummy_variable1 = pd.get_dummies(df['engine-location'])\n",
    "df=pd.concat([df, dummy_variable1], axis =1)\n",
    "df.head()"
   ]
  },
  {
   "cell_type": "markdown",
   "metadata": {
    "colab_type": "text",
    "id": "bxFIF4iEV-WU"
   },
   "source": [
    "<h2 id=\"import_data\">Exploratory Data Analysis </h2>\n",
    "\n"
   ]
  },
  {
   "cell_type": "markdown",
   "metadata": {
    "colab_type": "text",
    "id": "f8ibXzV9Abfl"
   },
   "source": [
    "- Descriptive Statistics\n",
    "\n",
    "After cleaning up our dataset, we would like to make a short summary of descriptive statistics to get an overview of our dataset. "
   ]
  },
  {
   "cell_type": "code",
   "execution_count": 80,
   "metadata": {
    "colab": {
     "base_uri": "https://localhost:8080/",
     "height": 313
    },
    "colab_type": "code",
    "id": "kOQXWOfeWe5E",
    "outputId": "db659cba-dac2-4fab-8cdf-81a94ef05ea6"
   },
   "outputs": [
    {
     "data": {
      "text/html": [
       "<div>\n",
       "<style scoped>\n",
       "    .dataframe tbody tr th:only-of-type {\n",
       "        vertical-align: middle;\n",
       "    }\n",
       "\n",
       "    .dataframe tbody tr th {\n",
       "        vertical-align: top;\n",
       "    }\n",
       "\n",
       "    .dataframe thead th {\n",
       "        text-align: right;\n",
       "    }\n",
       "</style>\n",
       "<table border=\"1\" class=\"dataframe\">\n",
       "  <thead>\n",
       "    <tr style=\"text-align: right;\">\n",
       "      <th></th>\n",
       "      <th>symboling</th>\n",
       "      <th>normalized-losses</th>\n",
       "      <th>wheel-base</th>\n",
       "      <th>length</th>\n",
       "      <th>width</th>\n",
       "      <th>height</th>\n",
       "      <th>curb-weight</th>\n",
       "      <th>engine-size</th>\n",
       "      <th>bore</th>\n",
       "      <th>stroke</th>\n",
       "      <th>...</th>\n",
       "      <th>peak-rpm</th>\n",
       "      <th>city-mpg</th>\n",
       "      <th>highway-mpg</th>\n",
       "      <th>price</th>\n",
       "      <th>wheel-base-M</th>\n",
       "      <th>length-M</th>\n",
       "      <th>width-M</th>\n",
       "      <th>height-M</th>\n",
       "      <th>front</th>\n",
       "      <th>rear</th>\n",
       "    </tr>\n",
       "  </thead>\n",
       "  <tbody>\n",
       "    <tr>\n",
       "      <th>count</th>\n",
       "      <td>200.000000</td>\n",
       "      <td>200.000000</td>\n",
       "      <td>200.000000</td>\n",
       "      <td>200.000000</td>\n",
       "      <td>200.000000</td>\n",
       "      <td>200.000000</td>\n",
       "      <td>200.000000</td>\n",
       "      <td>200.000000</td>\n",
       "      <td>200.000000</td>\n",
       "      <td>200.000000</td>\n",
       "      <td>...</td>\n",
       "      <td>200.000000</td>\n",
       "      <td>200.000000</td>\n",
       "      <td>200.000000</td>\n",
       "      <td>200.000000</td>\n",
       "      <td>200.000000</td>\n",
       "      <td>200.000000</td>\n",
       "      <td>200.000000</td>\n",
       "      <td>200.000000</td>\n",
       "      <td>200.000000</td>\n",
       "      <td>200.000000</td>\n",
       "    </tr>\n",
       "    <tr>\n",
       "      <th>mean</th>\n",
       "      <td>0.830000</td>\n",
       "      <td>122.000000</td>\n",
       "      <td>0.817601</td>\n",
       "      <td>0.837232</td>\n",
       "      <td>0.915250</td>\n",
       "      <td>0.899523</td>\n",
       "      <td>0.628555</td>\n",
       "      <td>126.860000</td>\n",
       "      <td>3.329981</td>\n",
       "      <td>3.259816</td>\n",
       "      <td>...</td>\n",
       "      <td>5118.259901</td>\n",
       "      <td>25.200000</td>\n",
       "      <td>30.705000</td>\n",
       "      <td>13205.690000</td>\n",
       "      <td>2.510739</td>\n",
       "      <td>4.425391</td>\n",
       "      <td>1.673809</td>\n",
       "      <td>1.366304</td>\n",
       "      <td>0.985000</td>\n",
       "      <td>0.015000</td>\n",
       "    </tr>\n",
       "    <tr>\n",
       "      <th>std</th>\n",
       "      <td>1.248557</td>\n",
       "      <td>32.076542</td>\n",
       "      <td>0.049944</td>\n",
       "      <td>0.059333</td>\n",
       "      <td>0.029207</td>\n",
       "      <td>0.040610</td>\n",
       "      <td>0.127544</td>\n",
       "      <td>41.650501</td>\n",
       "      <td>0.268562</td>\n",
       "      <td>0.314177</td>\n",
       "      <td>...</td>\n",
       "      <td>479.240743</td>\n",
       "      <td>6.432487</td>\n",
       "      <td>6.827227</td>\n",
       "      <td>7966.982558</td>\n",
       "      <td>0.153372</td>\n",
       "      <td>0.313617</td>\n",
       "      <td>0.053414</td>\n",
       "      <td>0.061683</td>\n",
       "      <td>0.121857</td>\n",
       "      <td>0.121857</td>\n",
       "    </tr>\n",
       "    <tr>\n",
       "      <th>min</th>\n",
       "      <td>-2.000000</td>\n",
       "      <td>65.000000</td>\n",
       "      <td>0.716294</td>\n",
       "      <td>0.678039</td>\n",
       "      <td>0.837500</td>\n",
       "      <td>0.799331</td>\n",
       "      <td>0.365962</td>\n",
       "      <td>61.000000</td>\n",
       "      <td>2.540000</td>\n",
       "      <td>2.070000</td>\n",
       "      <td>...</td>\n",
       "      <td>4150.000000</td>\n",
       "      <td>13.000000</td>\n",
       "      <td>16.000000</td>\n",
       "      <td>5118.000000</td>\n",
       "      <td>2.199640</td>\n",
       "      <td>3.583940</td>\n",
       "      <td>1.531620</td>\n",
       "      <td>1.214120</td>\n",
       "      <td>0.000000</td>\n",
       "      <td>0.000000</td>\n",
       "    </tr>\n",
       "    <tr>\n",
       "      <th>25%</th>\n",
       "      <td>0.000000</td>\n",
       "      <td>100.250000</td>\n",
       "      <td>0.781638</td>\n",
       "      <td>0.800937</td>\n",
       "      <td>0.891319</td>\n",
       "      <td>0.869565</td>\n",
       "      <td>0.531972</td>\n",
       "      <td>97.750000</td>\n",
       "      <td>3.150000</td>\n",
       "      <td>3.117500</td>\n",
       "      <td>...</td>\n",
       "      <td>4800.000000</td>\n",
       "      <td>19.000000</td>\n",
       "      <td>25.000000</td>\n",
       "      <td>7775.000000</td>\n",
       "      <td>2.400300</td>\n",
       "      <td>4.233545</td>\n",
       "      <td>1.630045</td>\n",
       "      <td>1.320800</td>\n",
       "      <td>1.000000</td>\n",
       "      <td>0.000000</td>\n",
       "    </tr>\n",
       "    <tr>\n",
       "      <th>50%</th>\n",
       "      <td>1.000000</td>\n",
       "      <td>122.000000</td>\n",
       "      <td>0.802316</td>\n",
       "      <td>0.832292</td>\n",
       "      <td>0.909722</td>\n",
       "      <td>0.904682</td>\n",
       "      <td>0.593704</td>\n",
       "      <td>119.500000</td>\n",
       "      <td>3.310000</td>\n",
       "      <td>3.290000</td>\n",
       "      <td>...</td>\n",
       "      <td>5162.995050</td>\n",
       "      <td>24.000000</td>\n",
       "      <td>30.000000</td>\n",
       "      <td>10270.000000</td>\n",
       "      <td>2.463800</td>\n",
       "      <td>4.399280</td>\n",
       "      <td>1.663700</td>\n",
       "      <td>1.374140</td>\n",
       "      <td>1.000000</td>\n",
       "      <td>0.000000</td>\n",
       "    </tr>\n",
       "    <tr>\n",
       "      <th>75%</th>\n",
       "      <td>2.000000</td>\n",
       "      <td>138.250000</td>\n",
       "      <td>0.846981</td>\n",
       "      <td>0.881788</td>\n",
       "      <td>0.926042</td>\n",
       "      <td>0.928512</td>\n",
       "      <td>0.720180</td>\n",
       "      <td>142.000000</td>\n",
       "      <td>3.582500</td>\n",
       "      <td>3.410000</td>\n",
       "      <td>...</td>\n",
       "      <td>5500.000000</td>\n",
       "      <td>30.000000</td>\n",
       "      <td>34.000000</td>\n",
       "      <td>16500.750000</td>\n",
       "      <td>2.600960</td>\n",
       "      <td>4.660900</td>\n",
       "      <td>1.693545</td>\n",
       "      <td>1.410335</td>\n",
       "      <td>1.000000</td>\n",
       "      <td>0.000000</td>\n",
       "    </tr>\n",
       "    <tr>\n",
       "      <th>max</th>\n",
       "      <td>3.000000</td>\n",
       "      <td>256.000000</td>\n",
       "      <td>1.000000</td>\n",
       "      <td>1.000000</td>\n",
       "      <td>1.000000</td>\n",
       "      <td>1.000000</td>\n",
       "      <td>1.000000</td>\n",
       "      <td>326.000000</td>\n",
       "      <td>3.940000</td>\n",
       "      <td>4.170000</td>\n",
       "      <td>...</td>\n",
       "      <td>6600.000000</td>\n",
       "      <td>49.000000</td>\n",
       "      <td>54.000000</td>\n",
       "      <td>45400.000000</td>\n",
       "      <td>3.070860</td>\n",
       "      <td>5.285740</td>\n",
       "      <td>1.828800</td>\n",
       "      <td>1.518920</td>\n",
       "      <td>1.000000</td>\n",
       "      <td>1.000000</td>\n",
       "    </tr>\n",
       "  </tbody>\n",
       "</table>\n",
       "<p>8 rows × 22 columns</p>\n",
       "</div>"
      ],
      "text/plain": [
       "        symboling  normalized-losses  wheel-base      length       width  \\\n",
       "count  200.000000         200.000000  200.000000  200.000000  200.000000   \n",
       "mean     0.830000         122.000000    0.817601    0.837232    0.915250   \n",
       "std      1.248557          32.076542    0.049944    0.059333    0.029207   \n",
       "min     -2.000000          65.000000    0.716294    0.678039    0.837500   \n",
       "25%      0.000000         100.250000    0.781638    0.800937    0.891319   \n",
       "50%      1.000000         122.000000    0.802316    0.832292    0.909722   \n",
       "75%      2.000000         138.250000    0.846981    0.881788    0.926042   \n",
       "max      3.000000         256.000000    1.000000    1.000000    1.000000   \n",
       "\n",
       "           height  curb-weight  engine-size        bore      stroke  ...  \\\n",
       "count  200.000000   200.000000   200.000000  200.000000  200.000000  ...   \n",
       "mean     0.899523     0.628555   126.860000    3.329981    3.259816  ...   \n",
       "std      0.040610     0.127544    41.650501    0.268562    0.314177  ...   \n",
       "min      0.799331     0.365962    61.000000    2.540000    2.070000  ...   \n",
       "25%      0.869565     0.531972    97.750000    3.150000    3.117500  ...   \n",
       "50%      0.904682     0.593704   119.500000    3.310000    3.290000  ...   \n",
       "75%      0.928512     0.720180   142.000000    3.582500    3.410000  ...   \n",
       "max      1.000000     1.000000   326.000000    3.940000    4.170000  ...   \n",
       "\n",
       "          peak-rpm    city-mpg  highway-mpg         price  wheel-base-M  \\\n",
       "count   200.000000  200.000000   200.000000    200.000000    200.000000   \n",
       "mean   5118.259901   25.200000    30.705000  13205.690000      2.510739   \n",
       "std     479.240743    6.432487     6.827227   7966.982558      0.153372   \n",
       "min    4150.000000   13.000000    16.000000   5118.000000      2.199640   \n",
       "25%    4800.000000   19.000000    25.000000   7775.000000      2.400300   \n",
       "50%    5162.995050   24.000000    30.000000  10270.000000      2.463800   \n",
       "75%    5500.000000   30.000000    34.000000  16500.750000      2.600960   \n",
       "max    6600.000000   49.000000    54.000000  45400.000000      3.070860   \n",
       "\n",
       "         length-M     width-M    height-M       front        rear  \n",
       "count  200.000000  200.000000  200.000000  200.000000  200.000000  \n",
       "mean     4.425391    1.673809    1.366304    0.985000    0.015000  \n",
       "std      0.313617    0.053414    0.061683    0.121857    0.121857  \n",
       "min      3.583940    1.531620    1.214120    0.000000    0.000000  \n",
       "25%      4.233545    1.630045    1.320800    1.000000    0.000000  \n",
       "50%      4.399280    1.663700    1.374140    1.000000    0.000000  \n",
       "75%      4.660900    1.693545    1.410335    1.000000    0.000000  \n",
       "max      5.285740    1.828800    1.518920    1.000000    1.000000  \n",
       "\n",
       "[8 rows x 22 columns]"
      ]
     },
     "execution_count": 80,
     "metadata": {},
     "output_type": "execute_result"
    }
   ],
   "source": [
    "df.describe()\n",
    "#df.describe(include='all')"
   ]
  },
  {
   "cell_type": "markdown",
   "metadata": {
    "colab_type": "text",
    "id": "GSV2adg_FyJv"
   },
   "source": [
    "From the descriptive statistical summary, we can easily find that we have 200 entries in total and the mininum and maximum values, and quartiles for each numerical variables."
   ]
  },
  {
   "cell_type": "markdown",
   "metadata": {
    "colab_type": "text",
    "id": "A54Dyr7kX-6g"
   },
   "source": [
    "- Perform Group-by\n",
    "\n",
    "Groupping based on multiple variables gives a better understanding of the relationship between variables and the price\n",
    "\n",
    "1. Pick up all the interested variables and the target variable\n",
    "2. Group the data by interested variables and perform some operation (e.g: sum or mean) on the grouped object"
   ]
  },
  {
   "cell_type": "code",
   "execution_count": 81,
   "metadata": {
    "colab": {
     "base_uri": "https://localhost:8080/",
     "height": 421
    },
    "colab_type": "code",
    "id": "fRFymaACXzEL",
    "outputId": "8577b222-35fe-4fcf-bc8e-315f37a24d3a"
   },
   "outputs": [
    {
     "data": {
      "text/html": [
       "<div>\n",
       "<style scoped>\n",
       "    .dataframe tbody tr th:only-of-type {\n",
       "        vertical-align: middle;\n",
       "    }\n",
       "\n",
       "    .dataframe tbody tr th {\n",
       "        vertical-align: top;\n",
       "    }\n",
       "\n",
       "    .dataframe thead th {\n",
       "        text-align: right;\n",
       "    }\n",
       "</style>\n",
       "<table border=\"1\" class=\"dataframe\">\n",
       "  <thead>\n",
       "    <tr style=\"text-align: right;\">\n",
       "      <th></th>\n",
       "      <th>drive-wheels</th>\n",
       "      <th>body-style</th>\n",
       "      <th>price</th>\n",
       "    </tr>\n",
       "  </thead>\n",
       "  <tbody>\n",
       "    <tr>\n",
       "      <th>0</th>\n",
       "      <td>4wd</td>\n",
       "      <td>hatchback</td>\n",
       "      <td>7603.000000</td>\n",
       "    </tr>\n",
       "    <tr>\n",
       "      <th>1</th>\n",
       "      <td>4wd</td>\n",
       "      <td>sedan</td>\n",
       "      <td>12647.333333</td>\n",
       "    </tr>\n",
       "    <tr>\n",
       "      <th>2</th>\n",
       "      <td>4wd</td>\n",
       "      <td>wagon</td>\n",
       "      <td>9095.750000</td>\n",
       "    </tr>\n",
       "    <tr>\n",
       "      <th>3</th>\n",
       "      <td>fwd</td>\n",
       "      <td>convertible</td>\n",
       "      <td>11595.000000</td>\n",
       "    </tr>\n",
       "    <tr>\n",
       "      <th>4</th>\n",
       "      <td>fwd</td>\n",
       "      <td>hardtop</td>\n",
       "      <td>8249.000000</td>\n",
       "    </tr>\n",
       "    <tr>\n",
       "      <th>5</th>\n",
       "      <td>fwd</td>\n",
       "      <td>hatchback</td>\n",
       "      <td>8396.387755</td>\n",
       "    </tr>\n",
       "    <tr>\n",
       "      <th>6</th>\n",
       "      <td>fwd</td>\n",
       "      <td>sedan</td>\n",
       "      <td>9811.800000</td>\n",
       "    </tr>\n",
       "    <tr>\n",
       "      <th>7</th>\n",
       "      <td>fwd</td>\n",
       "      <td>wagon</td>\n",
       "      <td>9997.333333</td>\n",
       "    </tr>\n",
       "    <tr>\n",
       "      <th>8</th>\n",
       "      <td>rwd</td>\n",
       "      <td>convertible</td>\n",
       "      <td>26563.250000</td>\n",
       "    </tr>\n",
       "    <tr>\n",
       "      <th>9</th>\n",
       "      <td>rwd</td>\n",
       "      <td>hardtop</td>\n",
       "      <td>24202.714286</td>\n",
       "    </tr>\n",
       "    <tr>\n",
       "      <th>10</th>\n",
       "      <td>rwd</td>\n",
       "      <td>hatchback</td>\n",
       "      <td>14337.777778</td>\n",
       "    </tr>\n",
       "    <tr>\n",
       "      <th>11</th>\n",
       "      <td>rwd</td>\n",
       "      <td>sedan</td>\n",
       "      <td>21711.833333</td>\n",
       "    </tr>\n",
       "    <tr>\n",
       "      <th>12</th>\n",
       "      <td>rwd</td>\n",
       "      <td>wagon</td>\n",
       "      <td>16994.222222</td>\n",
       "    </tr>\n",
       "  </tbody>\n",
       "</table>\n",
       "</div>"
      ],
      "text/plain": [
       "   drive-wheels   body-style         price\n",
       "0           4wd    hatchback   7603.000000\n",
       "1           4wd        sedan  12647.333333\n",
       "2           4wd        wagon   9095.750000\n",
       "3           fwd  convertible  11595.000000\n",
       "4           fwd      hardtop   8249.000000\n",
       "5           fwd    hatchback   8396.387755\n",
       "6           fwd        sedan   9811.800000\n",
       "7           fwd        wagon   9997.333333\n",
       "8           rwd  convertible  26563.250000\n",
       "9           rwd      hardtop  24202.714286\n",
       "10          rwd    hatchback  14337.777778\n",
       "11          rwd        sedan  21711.833333\n",
       "12          rwd        wagon  16994.222222"
      ]
     },
     "execution_count": 81,
     "metadata": {},
     "output_type": "execute_result"
    }
   ],
   "source": [
    "group_by_variables = df[['drive-wheels','body-style','price']]\n",
    "group_by = group_by_variables.groupby(['drive-wheels','body-style'],as_index=False).mean()\n",
    "group_by"
   ]
  },
  {
   "cell_type": "markdown",
   "metadata": {
    "colab_type": "text",
    "id": "_uSbdHzxdXeW"
   },
   "source": [
    "The table shows the highest average price comes with rear-wheel driven and convertible car and the lowest average price with four-wheel driven and hatchback car. To make the table easier to read, we are going to visualize it by using Pivot method"
   ]
  },
  {
   "cell_type": "code",
   "execution_count": 82,
   "metadata": {
    "colab": {
     "base_uri": "https://localhost:8080/",
     "height": 191
    },
    "colab_type": "code",
    "id": "tm_yUF2adk0O",
    "outputId": "ef5309e3-34a7-406d-b46c-b757fe61c493"
   },
   "outputs": [
    {
     "data": {
      "text/html": [
       "<div>\n",
       "<style scoped>\n",
       "    .dataframe tbody tr th:only-of-type {\n",
       "        vertical-align: middle;\n",
       "    }\n",
       "\n",
       "    .dataframe tbody tr th {\n",
       "        vertical-align: top;\n",
       "    }\n",
       "\n",
       "    .dataframe thead tr th {\n",
       "        text-align: left;\n",
       "    }\n",
       "\n",
       "    .dataframe thead tr:last-of-type th {\n",
       "        text-align: right;\n",
       "    }\n",
       "</style>\n",
       "<table border=\"1\" class=\"dataframe\">\n",
       "  <thead>\n",
       "    <tr>\n",
       "      <th></th>\n",
       "      <th colspan=\"5\" halign=\"left\">price</th>\n",
       "    </tr>\n",
       "    <tr>\n",
       "      <th>body-style</th>\n",
       "      <th>convertible</th>\n",
       "      <th>hardtop</th>\n",
       "      <th>hatchback</th>\n",
       "      <th>sedan</th>\n",
       "      <th>wagon</th>\n",
       "    </tr>\n",
       "    <tr>\n",
       "      <th>drive-wheels</th>\n",
       "      <th></th>\n",
       "      <th></th>\n",
       "      <th></th>\n",
       "      <th></th>\n",
       "      <th></th>\n",
       "    </tr>\n",
       "  </thead>\n",
       "  <tbody>\n",
       "    <tr>\n",
       "      <th>4wd</th>\n",
       "      <td>NaN</td>\n",
       "      <td>NaN</td>\n",
       "      <td>7603.000000</td>\n",
       "      <td>12647.333333</td>\n",
       "      <td>9095.750000</td>\n",
       "    </tr>\n",
       "    <tr>\n",
       "      <th>fwd</th>\n",
       "      <td>11595.00</td>\n",
       "      <td>8249.000000</td>\n",
       "      <td>8396.387755</td>\n",
       "      <td>9811.800000</td>\n",
       "      <td>9997.333333</td>\n",
       "    </tr>\n",
       "    <tr>\n",
       "      <th>rwd</th>\n",
       "      <td>26563.25</td>\n",
       "      <td>24202.714286</td>\n",
       "      <td>14337.777778</td>\n",
       "      <td>21711.833333</td>\n",
       "      <td>16994.222222</td>\n",
       "    </tr>\n",
       "  </tbody>\n",
       "</table>\n",
       "</div>"
      ],
      "text/plain": [
       "                   price                                            \\\n",
       "body-style   convertible       hardtop     hatchback         sedan   \n",
       "drive-wheels                                                         \n",
       "4wd                  NaN           NaN   7603.000000  12647.333333   \n",
       "fwd             11595.00   8249.000000   8396.387755   9811.800000   \n",
       "rwd             26563.25  24202.714286  14337.777778  21711.833333   \n",
       "\n",
       "                            \n",
       "body-style           wagon  \n",
       "drive-wheels                \n",
       "4wd            9095.750000  \n",
       "fwd            9997.333333  \n",
       "rwd           16994.222222  "
      ]
     },
     "execution_count": 82,
     "metadata": {},
     "output_type": "execute_result"
    }
   ],
   "source": [
    "pivot_table1 =group_by.pivot(index='drive-wheels', columns ='body-style')\n",
    "pivot_table1"
   ]
  },
  {
   "cell_type": "markdown",
   "metadata": {
    "colab_type": "text",
    "id": "ZW13mg4zDgkX"
   },
   "source": [
    "We will replace the \"NaN\" with zero to avoid issue in further analysis."
   ]
  },
  {
   "cell_type": "code",
   "execution_count": 83,
   "metadata": {
    "colab": {
     "base_uri": "https://localhost:8080/",
     "height": 191
    },
    "colab_type": "code",
    "id": "dmVcPRQWeWDq",
    "outputId": "e4d6be96-3127-4e94-dc24-feceab62e095"
   },
   "outputs": [
    {
     "data": {
      "text/html": [
       "<div>\n",
       "<style scoped>\n",
       "    .dataframe tbody tr th:only-of-type {\n",
       "        vertical-align: middle;\n",
       "    }\n",
       "\n",
       "    .dataframe tbody tr th {\n",
       "        vertical-align: top;\n",
       "    }\n",
       "\n",
       "    .dataframe thead tr th {\n",
       "        text-align: left;\n",
       "    }\n",
       "\n",
       "    .dataframe thead tr:last-of-type th {\n",
       "        text-align: right;\n",
       "    }\n",
       "</style>\n",
       "<table border=\"1\" class=\"dataframe\">\n",
       "  <thead>\n",
       "    <tr>\n",
       "      <th></th>\n",
       "      <th colspan=\"5\" halign=\"left\">price</th>\n",
       "    </tr>\n",
       "    <tr>\n",
       "      <th>body-style</th>\n",
       "      <th>convertible</th>\n",
       "      <th>hardtop</th>\n",
       "      <th>hatchback</th>\n",
       "      <th>sedan</th>\n",
       "      <th>wagon</th>\n",
       "    </tr>\n",
       "    <tr>\n",
       "      <th>drive-wheels</th>\n",
       "      <th></th>\n",
       "      <th></th>\n",
       "      <th></th>\n",
       "      <th></th>\n",
       "      <th></th>\n",
       "    </tr>\n",
       "  </thead>\n",
       "  <tbody>\n",
       "    <tr>\n",
       "      <th>4wd</th>\n",
       "      <td>0.00</td>\n",
       "      <td>0.000000</td>\n",
       "      <td>7603.000000</td>\n",
       "      <td>12647.333333</td>\n",
       "      <td>9095.750000</td>\n",
       "    </tr>\n",
       "    <tr>\n",
       "      <th>fwd</th>\n",
       "      <td>11595.00</td>\n",
       "      <td>8249.000000</td>\n",
       "      <td>8396.387755</td>\n",
       "      <td>9811.800000</td>\n",
       "      <td>9997.333333</td>\n",
       "    </tr>\n",
       "    <tr>\n",
       "      <th>rwd</th>\n",
       "      <td>26563.25</td>\n",
       "      <td>24202.714286</td>\n",
       "      <td>14337.777778</td>\n",
       "      <td>21711.833333</td>\n",
       "      <td>16994.222222</td>\n",
       "    </tr>\n",
       "  </tbody>\n",
       "</table>\n",
       "</div>"
      ],
      "text/plain": [
       "                   price                                            \\\n",
       "body-style   convertible       hardtop     hatchback         sedan   \n",
       "drive-wheels                                                         \n",
       "4wd                 0.00      0.000000   7603.000000  12647.333333   \n",
       "fwd             11595.00   8249.000000   8396.387755   9811.800000   \n",
       "rwd             26563.25  24202.714286  14337.777778  21711.833333   \n",
       "\n",
       "                            \n",
       "body-style           wagon  \n",
       "drive-wheels                \n",
       "4wd            9095.750000  \n",
       "fwd            9997.333333  \n",
       "rwd           16994.222222  "
      ]
     },
     "execution_count": 83,
     "metadata": {},
     "output_type": "execute_result"
    }
   ],
   "source": [
    "pivot_table1 = pivot_table1.replace(np.nan,0)\n",
    "pivot_table1"
   ]
  },
  {
   "cell_type": "markdown",
   "metadata": {
    "colab_type": "text",
    "id": "EUEjjxr3euAx"
   },
   "source": [
    "We can even make the pivot table more readible by plotting a heat map."
   ]
  },
  {
   "cell_type": "code",
   "execution_count": 84,
   "metadata": {
    "colab": {
     "base_uri": "https://localhost:8080/",
     "height": 315
    },
    "colab_type": "code",
    "id": "6JOfCOb_e4Ot",
    "outputId": "a3e06b00-9f6f-4a17-de0f-b73a14173a13"
   },
   "outputs": [
    {
     "data": {
      "image/png": "[encoded data removed]",
      "text/plain": [
       "<Figure size 432x288 with 2 Axes>"
      ]
     },
     "metadata": {
      "needs_background": "light"
     },
     "output_type": "display_data"
    }
   ],
   "source": [
    "#plt.pyplot.pcolor(pivot_table1, cmap='RdBu')\n",
    "#plt.pyplot.colorbar()\n",
    "#plt.pyplot.show()\n",
    "\n",
    "fig, ax=plt.pyplot.subplots()\n",
    "lm=ax.pcolor(pivot_table1, cmap='RdBu')\n",
    "\n",
    "ax.set_xticks(np.arange(pivot_table1.shape[1])+0.5, minor = False)\n",
    "ax.set_yticks(np.arange(pivot_table1.shape[0])+0.5, minor = False)\n",
    "\n",
    "row_labels=pivot_table1.index\n",
    "col_labels=pivot_table1.columns.levels[1]\n",
    "\n",
    "ax.set_xticklabels(col_labels)\n",
    "ax.set_yticklabels(row_labels)\n",
    "\n",
    "plt.pyplot.xticks(rotation=90)\n",
    "fig.colorbar(lm)\n",
    "plt.pyplot.show()\n",
    "\n"
   ]
  },
  {
   "cell_type": "markdown",
   "metadata": {
    "colab_type": "text",
    "id": "yDUzNKu_El-W"
   },
   "source": [
    "From the heat map above, we find that the top section tends to have high price and the bottom section has low price."
   ]
  },
  {
   "cell_type": "markdown",
   "metadata": {
    "colab_type": "text",
    "id": "OUl4uO8fivNP"
   },
   "source": [
    "- Explore correlation between variables"
   ]
  },
  {
   "cell_type": "code",
   "execution_count": 85,
   "metadata": {
    "colab": {
     "base_uri": "https://localhost:8080/",
     "height": 765
    },
    "colab_type": "code",
    "id": "FYNq9uENkhE_",
    "outputId": "7d8ea123-01b5-45f0-f198-a6487495e012"
   },
   "outputs": [
    {
     "data": {
      "text/html": [
       "<div>\n",
       "<style scoped>\n",
       "    .dataframe tbody tr th:only-of-type {\n",
       "        vertical-align: middle;\n",
       "    }\n",
       "\n",
       "    .dataframe tbody tr th {\n",
       "        vertical-align: top;\n",
       "    }\n",
       "\n",
       "    .dataframe thead th {\n",
       "        text-align: right;\n",
       "    }\n",
       "</style>\n",
       "<table border=\"1\" class=\"dataframe\">\n",
       "  <thead>\n",
       "    <tr style=\"text-align: right;\">\n",
       "      <th></th>\n",
       "      <th>symboling</th>\n",
       "      <th>normalized-losses</th>\n",
       "      <th>wheel-base</th>\n",
       "      <th>length</th>\n",
       "      <th>width</th>\n",
       "      <th>height</th>\n",
       "      <th>curb-weight</th>\n",
       "      <th>engine-size</th>\n",
       "      <th>bore</th>\n",
       "      <th>stroke</th>\n",
       "      <th>...</th>\n",
       "      <th>peak-rpm</th>\n",
       "      <th>city-mpg</th>\n",
       "      <th>highway-mpg</th>\n",
       "      <th>price</th>\n",
       "      <th>wheel-base-M</th>\n",
       "      <th>length-M</th>\n",
       "      <th>width-M</th>\n",
       "      <th>height-M</th>\n",
       "      <th>front</th>\n",
       "      <th>rear</th>\n",
       "    </tr>\n",
       "  </thead>\n",
       "  <tbody>\n",
       "    <tr>\n",
       "      <th>symboling</th>\n",
       "      <td>1.000000</td>\n",
       "      <td>4.697717e-01</td>\n",
       "      <td>-0.529145</td>\n",
       "      <td>-0.364511</td>\n",
       "      <td>-0.237262</td>\n",
       "      <td>-0.542261</td>\n",
       "      <td>-0.234743</td>\n",
       "      <td>-0.112069</td>\n",
       "      <td>-0.145790</td>\n",
       "      <td>0.008072</td>\n",
       "      <td>...</td>\n",
       "      <td>0.284033</td>\n",
       "      <td>-0.030158</td>\n",
       "      <td>0.041248</td>\n",
       "      <td>-0.083327</td>\n",
       "      <td>-0.529145</td>\n",
       "      <td>-0.364511</td>\n",
       "      <td>-0.237262</td>\n",
       "      <td>-0.542261</td>\n",
       "      <td>-2.150143e-01</td>\n",
       "      <td>2.150143e-01</td>\n",
       "    </tr>\n",
       "    <tr>\n",
       "      <th>normalized-losses</th>\n",
       "      <td>0.469772</td>\n",
       "      <td>1.000000e+00</td>\n",
       "      <td>-0.057068</td>\n",
       "      <td>0.019433</td>\n",
       "      <td>0.086961</td>\n",
       "      <td>-0.377664</td>\n",
       "      <td>0.099404</td>\n",
       "      <td>0.112362</td>\n",
       "      <td>-0.029929</td>\n",
       "      <td>0.055673</td>\n",
       "      <td>...</td>\n",
       "      <td>0.239580</td>\n",
       "      <td>-0.225255</td>\n",
       "      <td>-0.182011</td>\n",
       "      <td>0.133999</td>\n",
       "      <td>-0.057068</td>\n",
       "      <td>0.019433</td>\n",
       "      <td>0.086961</td>\n",
       "      <td>-0.377664</td>\n",
       "      <td>7.136535e-19</td>\n",
       "      <td>9.848419e-18</td>\n",
       "    </tr>\n",
       "    <tr>\n",
       "      <th>wheel-base</th>\n",
       "      <td>-0.529145</td>\n",
       "      <td>-5.706781e-02</td>\n",
       "      <td>1.000000</td>\n",
       "      <td>0.879005</td>\n",
       "      <td>0.814593</td>\n",
       "      <td>0.583789</td>\n",
       "      <td>0.787584</td>\n",
       "      <td>0.576779</td>\n",
       "      <td>0.501576</td>\n",
       "      <td>0.144733</td>\n",
       "      <td>...</td>\n",
       "      <td>-0.365045</td>\n",
       "      <td>-0.480029</td>\n",
       "      <td>-0.552211</td>\n",
       "      <td>0.589147</td>\n",
       "      <td>1.000000</td>\n",
       "      <td>0.879005</td>\n",
       "      <td>0.814593</td>\n",
       "      <td>0.583789</td>\n",
       "      <td>1.915238e-01</td>\n",
       "      <td>-1.915238e-01</td>\n",
       "    </tr>\n",
       "    <tr>\n",
       "      <th>length</th>\n",
       "      <td>-0.364511</td>\n",
       "      <td>1.943295e-02</td>\n",
       "      <td>0.879005</td>\n",
       "      <td>1.000000</td>\n",
       "      <td>0.857271</td>\n",
       "      <td>0.492955</td>\n",
       "      <td>0.881058</td>\n",
       "      <td>0.685531</td>\n",
       "      <td>0.610847</td>\n",
       "      <td>0.120929</td>\n",
       "      <td>...</td>\n",
       "      <td>-0.286688</td>\n",
       "      <td>-0.667658</td>\n",
       "      <td>-0.700186</td>\n",
       "      <td>0.691044</td>\n",
       "      <td>0.879005</td>\n",
       "      <td>1.000000</td>\n",
       "      <td>0.857271</td>\n",
       "      <td>0.492955</td>\n",
       "      <td>5.338437e-02</td>\n",
       "      <td>-5.338437e-02</td>\n",
       "    </tr>\n",
       "    <tr>\n",
       "      <th>width</th>\n",
       "      <td>-0.237262</td>\n",
       "      <td>8.696056e-02</td>\n",
       "      <td>0.814593</td>\n",
       "      <td>0.857271</td>\n",
       "      <td>1.000000</td>\n",
       "      <td>0.300995</td>\n",
       "      <td>0.867720</td>\n",
       "      <td>0.731100</td>\n",
       "      <td>0.548485</td>\n",
       "      <td>0.182864</td>\n",
       "      <td>...</td>\n",
       "      <td>-0.247337</td>\n",
       "      <td>-0.638155</td>\n",
       "      <td>-0.684700</td>\n",
       "      <td>0.752795</td>\n",
       "      <td>0.814593</td>\n",
       "      <td>0.857271</td>\n",
       "      <td>1.000000</td>\n",
       "      <td>0.300995</td>\n",
       "      <td>5.282905e-02</td>\n",
       "      <td>-5.282905e-02</td>\n",
       "    </tr>\n",
       "    <tr>\n",
       "      <th>height</th>\n",
       "      <td>-0.542261</td>\n",
       "      <td>-3.776638e-01</td>\n",
       "      <td>0.583789</td>\n",
       "      <td>0.492955</td>\n",
       "      <td>0.300995</td>\n",
       "      <td>1.000000</td>\n",
       "      <td>0.310660</td>\n",
       "      <td>0.076255</td>\n",
       "      <td>0.187917</td>\n",
       "      <td>-0.081103</td>\n",
       "      <td>...</td>\n",
       "      <td>-0.315820</td>\n",
       "      <td>-0.057087</td>\n",
       "      <td>-0.111568</td>\n",
       "      <td>0.137284</td>\n",
       "      <td>0.583789</td>\n",
       "      <td>0.492955</td>\n",
       "      <td>0.300995</td>\n",
       "      <td>1.000000</td>\n",
       "      <td>1.116422e-01</td>\n",
       "      <td>-1.116422e-01</td>\n",
       "    </tr>\n",
       "    <tr>\n",
       "      <th>curb-weight</th>\n",
       "      <td>-0.234743</td>\n",
       "      <td>9.940431e-02</td>\n",
       "      <td>0.787584</td>\n",
       "      <td>0.881058</td>\n",
       "      <td>0.867720</td>\n",
       "      <td>0.310660</td>\n",
       "      <td>1.000000</td>\n",
       "      <td>0.849090</td>\n",
       "      <td>0.644552</td>\n",
       "      <td>0.168669</td>\n",
       "      <td>...</td>\n",
       "      <td>-0.279422</td>\n",
       "      <td>-0.750390</td>\n",
       "      <td>-0.795515</td>\n",
       "      <td>0.834420</td>\n",
       "      <td>0.787584</td>\n",
       "      <td>0.881058</td>\n",
       "      <td>0.867720</td>\n",
       "      <td>0.310660</td>\n",
       "      <td>-5.128012e-02</td>\n",
       "      <td>5.128012e-02</td>\n",
       "    </tr>\n",
       "    <tr>\n",
       "      <th>engine-size</th>\n",
       "      <td>-0.112069</td>\n",
       "      <td>1.123616e-01</td>\n",
       "      <td>0.576779</td>\n",
       "      <td>0.685531</td>\n",
       "      <td>0.731100</td>\n",
       "      <td>0.076255</td>\n",
       "      <td>0.849090</td>\n",
       "      <td>1.000000</td>\n",
       "      <td>0.572878</td>\n",
       "      <td>0.208133</td>\n",
       "      <td>...</td>\n",
       "      <td>-0.256681</td>\n",
       "      <td>-0.651002</td>\n",
       "      <td>-0.679877</td>\n",
       "      <td>0.872337</td>\n",
       "      <td>0.576779</td>\n",
       "      <td>0.685531</td>\n",
       "      <td>0.731100</td>\n",
       "      <td>0.076255</td>\n",
       "      <td>-1.994238e-01</td>\n",
       "      <td>1.994238e-01</td>\n",
       "    </tr>\n",
       "    <tr>\n",
       "      <th>bore</th>\n",
       "      <td>-0.145790</td>\n",
       "      <td>-2.992858e-02</td>\n",
       "      <td>0.501576</td>\n",
       "      <td>0.610847</td>\n",
       "      <td>0.548485</td>\n",
       "      <td>0.187917</td>\n",
       "      <td>0.644552</td>\n",
       "      <td>0.572878</td>\n",
       "      <td>1.000000</td>\n",
       "      <td>-0.051087</td>\n",
       "      <td>...</td>\n",
       "      <td>-0.267061</td>\n",
       "      <td>-0.581272</td>\n",
       "      <td>-0.590672</td>\n",
       "      <td>0.543433</td>\n",
       "      <td>0.501576</td>\n",
       "      <td>0.610847</td>\n",
       "      <td>0.548485</td>\n",
       "      <td>0.187917</td>\n",
       "      <td>-1.888753e-01</td>\n",
       "      <td>1.888753e-01</td>\n",
       "    </tr>\n",
       "    <tr>\n",
       "      <th>stroke</th>\n",
       "      <td>0.008072</td>\n",
       "      <td>5.567272e-02</td>\n",
       "      <td>0.144733</td>\n",
       "      <td>0.120929</td>\n",
       "      <td>0.182864</td>\n",
       "      <td>-0.081103</td>\n",
       "      <td>0.168669</td>\n",
       "      <td>0.208133</td>\n",
       "      <td>-0.051087</td>\n",
       "      <td>1.000000</td>\n",
       "      <td>...</td>\n",
       "      <td>-0.066021</td>\n",
       "      <td>-0.040547</td>\n",
       "      <td>-0.040170</td>\n",
       "      <td>0.083298</td>\n",
       "      <td>0.144733</td>\n",
       "      <td>0.120929</td>\n",
       "      <td>0.182864</td>\n",
       "      <td>-0.081103</td>\n",
       "      <td>1.416845e-01</td>\n",
       "      <td>-1.416845e-01</td>\n",
       "    </tr>\n",
       "    <tr>\n",
       "      <th>compression-ratio</th>\n",
       "      <td>-0.181073</td>\n",
       "      <td>-1.147376e-01</td>\n",
       "      <td>0.249689</td>\n",
       "      <td>0.159203</td>\n",
       "      <td>0.189008</td>\n",
       "      <td>0.259526</td>\n",
       "      <td>0.156444</td>\n",
       "      <td>0.029005</td>\n",
       "      <td>0.002034</td>\n",
       "      <td>0.186780</td>\n",
       "      <td>...</td>\n",
       "      <td>-0.436303</td>\n",
       "      <td>0.330897</td>\n",
       "      <td>0.267929</td>\n",
       "      <td>0.071176</td>\n",
       "      <td>0.249689</td>\n",
       "      <td>0.159203</td>\n",
       "      <td>0.189008</td>\n",
       "      <td>0.259526</td>\n",
       "      <td>2.065193e-02</td>\n",
       "      <td>-2.065193e-02</td>\n",
       "    </tr>\n",
       "    <tr>\n",
       "      <th>horsepower</th>\n",
       "      <td>0.074625</td>\n",
       "      <td>2.173220e-01</td>\n",
       "      <td>0.375582</td>\n",
       "      <td>0.580606</td>\n",
       "      <td>0.617132</td>\n",
       "      <td>-0.085852</td>\n",
       "      <td>0.758071</td>\n",
       "      <td>0.822695</td>\n",
       "      <td>0.566835</td>\n",
       "      <td>0.101003</td>\n",
       "      <td>...</td>\n",
       "      <td>0.108164</td>\n",
       "      <td>-0.822507</td>\n",
       "      <td>-0.804698</td>\n",
       "      <td>0.809629</td>\n",
       "      <td>0.375582</td>\n",
       "      <td>0.580606</td>\n",
       "      <td>0.617132</td>\n",
       "      <td>-0.085852</td>\n",
       "      <td>-3.422919e-01</td>\n",
       "      <td>3.422919e-01</td>\n",
       "    </tr>\n",
       "    <tr>\n",
       "      <th>peak-rpm</th>\n",
       "      <td>0.284033</td>\n",
       "      <td>2.395799e-01</td>\n",
       "      <td>-0.365045</td>\n",
       "      <td>-0.286688</td>\n",
       "      <td>-0.247337</td>\n",
       "      <td>-0.315820</td>\n",
       "      <td>-0.279422</td>\n",
       "      <td>-0.256681</td>\n",
       "      <td>-0.267061</td>\n",
       "      <td>-0.066021</td>\n",
       "      <td>...</td>\n",
       "      <td>1.000000</td>\n",
       "      <td>-0.116364</td>\n",
       "      <td>-0.059319</td>\n",
       "      <td>-0.101593</td>\n",
       "      <td>-0.365045</td>\n",
       "      <td>-0.286688</td>\n",
       "      <td>-0.247337</td>\n",
       "      <td>-0.315820</td>\n",
       "      <td>-2.018016e-01</td>\n",
       "      <td>2.018016e-01</td>\n",
       "    </tr>\n",
       "    <tr>\n",
       "      <th>city-mpg</th>\n",
       "      <td>-0.030158</td>\n",
       "      <td>-2.252554e-01</td>\n",
       "      <td>-0.480029</td>\n",
       "      <td>-0.667658</td>\n",
       "      <td>-0.638155</td>\n",
       "      <td>-0.057087</td>\n",
       "      <td>-0.750390</td>\n",
       "      <td>-0.651002</td>\n",
       "      <td>-0.581272</td>\n",
       "      <td>-0.040547</td>\n",
       "      <td>...</td>\n",
       "      <td>-0.116364</td>\n",
       "      <td>1.000000</td>\n",
       "      <td>0.972024</td>\n",
       "      <td>-0.687186</td>\n",
       "      <td>-0.480029</td>\n",
       "      <td>-0.667658</td>\n",
       "      <td>-0.638155</td>\n",
       "      <td>-0.057087</td>\n",
       "      <td>1.577070e-01</td>\n",
       "      <td>-1.577070e-01</td>\n",
       "    </tr>\n",
       "    <tr>\n",
       "      <th>highway-mpg</th>\n",
       "      <td>0.041248</td>\n",
       "      <td>-1.820110e-01</td>\n",
       "      <td>-0.552211</td>\n",
       "      <td>-0.700186</td>\n",
       "      <td>-0.684700</td>\n",
       "      <td>-0.111568</td>\n",
       "      <td>-0.795515</td>\n",
       "      <td>-0.679877</td>\n",
       "      <td>-0.590672</td>\n",
       "      <td>-0.040170</td>\n",
       "      <td>...</td>\n",
       "      <td>-0.059319</td>\n",
       "      <td>0.972024</td>\n",
       "      <td>1.000000</td>\n",
       "      <td>-0.705115</td>\n",
       "      <td>-0.552211</td>\n",
       "      <td>-0.700186</td>\n",
       "      <td>-0.684700</td>\n",
       "      <td>-0.111568</td>\n",
       "      <td>1.033778e-01</td>\n",
       "      <td>-1.033778e-01</td>\n",
       "    </tr>\n",
       "    <tr>\n",
       "      <th>price</th>\n",
       "      <td>-0.083327</td>\n",
       "      <td>1.339992e-01</td>\n",
       "      <td>0.589147</td>\n",
       "      <td>0.691044</td>\n",
       "      <td>0.752795</td>\n",
       "      <td>0.137284</td>\n",
       "      <td>0.834420</td>\n",
       "      <td>0.872337</td>\n",
       "      <td>0.543433</td>\n",
       "      <td>0.083298</td>\n",
       "      <td>...</td>\n",
       "      <td>-0.101593</td>\n",
       "      <td>-0.687186</td>\n",
       "      <td>-0.705115</td>\n",
       "      <td>1.000000</td>\n",
       "      <td>0.589147</td>\n",
       "      <td>0.691044</td>\n",
       "      <td>0.752795</td>\n",
       "      <td>0.137284</td>\n",
       "      <td>-3.310979e-01</td>\n",
       "      <td>3.310979e-01</td>\n",
       "    </tr>\n",
       "    <tr>\n",
       "      <th>wheel-base-M</th>\n",
       "      <td>-0.529145</td>\n",
       "      <td>-5.706781e-02</td>\n",
       "      <td>1.000000</td>\n",
       "      <td>0.879005</td>\n",
       "      <td>0.814593</td>\n",
       "      <td>0.583789</td>\n",
       "      <td>0.787584</td>\n",
       "      <td>0.576779</td>\n",
       "      <td>0.501576</td>\n",
       "      <td>0.144733</td>\n",
       "      <td>...</td>\n",
       "      <td>-0.365045</td>\n",
       "      <td>-0.480029</td>\n",
       "      <td>-0.552211</td>\n",
       "      <td>0.589147</td>\n",
       "      <td>1.000000</td>\n",
       "      <td>0.879005</td>\n",
       "      <td>0.814593</td>\n",
       "      <td>0.583789</td>\n",
       "      <td>1.915238e-01</td>\n",
       "      <td>-1.915238e-01</td>\n",
       "    </tr>\n",
       "    <tr>\n",
       "      <th>length-M</th>\n",
       "      <td>-0.364511</td>\n",
       "      <td>1.943295e-02</td>\n",
       "      <td>0.879005</td>\n",
       "      <td>1.000000</td>\n",
       "      <td>0.857271</td>\n",
       "      <td>0.492955</td>\n",
       "      <td>0.881058</td>\n",
       "      <td>0.685531</td>\n",
       "      <td>0.610847</td>\n",
       "      <td>0.120929</td>\n",
       "      <td>...</td>\n",
       "      <td>-0.286688</td>\n",
       "      <td>-0.667658</td>\n",
       "      <td>-0.700186</td>\n",
       "      <td>0.691044</td>\n",
       "      <td>0.879005</td>\n",
       "      <td>1.000000</td>\n",
       "      <td>0.857271</td>\n",
       "      <td>0.492955</td>\n",
       "      <td>5.338437e-02</td>\n",
       "      <td>-5.338437e-02</td>\n",
       "    </tr>\n",
       "    <tr>\n",
       "      <th>width-M</th>\n",
       "      <td>-0.237262</td>\n",
       "      <td>8.696056e-02</td>\n",
       "      <td>0.814593</td>\n",
       "      <td>0.857271</td>\n",
       "      <td>1.000000</td>\n",
       "      <td>0.300995</td>\n",
       "      <td>0.867720</td>\n",
       "      <td>0.731100</td>\n",
       "      <td>0.548485</td>\n",
       "      <td>0.182864</td>\n",
       "      <td>...</td>\n",
       "      <td>-0.247337</td>\n",
       "      <td>-0.638155</td>\n",
       "      <td>-0.684700</td>\n",
       "      <td>0.752795</td>\n",
       "      <td>0.814593</td>\n",
       "      <td>0.857271</td>\n",
       "      <td>1.000000</td>\n",
       "      <td>0.300995</td>\n",
       "      <td>5.282905e-02</td>\n",
       "      <td>-5.282905e-02</td>\n",
       "    </tr>\n",
       "    <tr>\n",
       "      <th>height-M</th>\n",
       "      <td>-0.542261</td>\n",
       "      <td>-3.776638e-01</td>\n",
       "      <td>0.583789</td>\n",
       "      <td>0.492955</td>\n",
       "      <td>0.300995</td>\n",
       "      <td>1.000000</td>\n",
       "      <td>0.310660</td>\n",
       "      <td>0.076255</td>\n",
       "      <td>0.187917</td>\n",
       "      <td>-0.081103</td>\n",
       "      <td>...</td>\n",
       "      <td>-0.315820</td>\n",
       "      <td>-0.057087</td>\n",
       "      <td>-0.111568</td>\n",
       "      <td>0.137284</td>\n",
       "      <td>0.583789</td>\n",
       "      <td>0.492955</td>\n",
       "      <td>0.300995</td>\n",
       "      <td>1.000000</td>\n",
       "      <td>1.116422e-01</td>\n",
       "      <td>-1.116422e-01</td>\n",
       "    </tr>\n",
       "    <tr>\n",
       "      <th>front</th>\n",
       "      <td>-0.215014</td>\n",
       "      <td>7.136535e-19</td>\n",
       "      <td>0.191524</td>\n",
       "      <td>0.053384</td>\n",
       "      <td>0.052829</td>\n",
       "      <td>0.111642</td>\n",
       "      <td>-0.051280</td>\n",
       "      <td>-0.199424</td>\n",
       "      <td>-0.188875</td>\n",
       "      <td>0.141684</td>\n",
       "      <td>...</td>\n",
       "      <td>-0.201802</td>\n",
       "      <td>0.157707</td>\n",
       "      <td>0.103378</td>\n",
       "      <td>-0.331098</td>\n",
       "      <td>0.191524</td>\n",
       "      <td>0.053384</td>\n",
       "      <td>0.052829</td>\n",
       "      <td>0.111642</td>\n",
       "      <td>1.000000e+00</td>\n",
       "      <td>-1.000000e+00</td>\n",
       "    </tr>\n",
       "    <tr>\n",
       "      <th>rear</th>\n",
       "      <td>0.215014</td>\n",
       "      <td>9.848419e-18</td>\n",
       "      <td>-0.191524</td>\n",
       "      <td>-0.053384</td>\n",
       "      <td>-0.052829</td>\n",
       "      <td>-0.111642</td>\n",
       "      <td>0.051280</td>\n",
       "      <td>0.199424</td>\n",
       "      <td>0.188875</td>\n",
       "      <td>-0.141684</td>\n",
       "      <td>...</td>\n",
       "      <td>0.201802</td>\n",
       "      <td>-0.157707</td>\n",
       "      <td>-0.103378</td>\n",
       "      <td>0.331098</td>\n",
       "      <td>-0.191524</td>\n",
       "      <td>-0.053384</td>\n",
       "      <td>-0.052829</td>\n",
       "      <td>-0.111642</td>\n",
       "      <td>-1.000000e+00</td>\n",
       "      <td>1.000000e+00</td>\n",
       "    </tr>\n",
       "  </tbody>\n",
       "</table>\n",
       "<p>22 rows × 22 columns</p>\n",
       "</div>"
      ],
      "text/plain": [
       "                   symboling  normalized-losses  wheel-base    length  \\\n",
       "symboling           1.000000       4.697717e-01   -0.529145 -0.364511   \n",
       "normalized-losses   0.469772       1.000000e+00   -0.057068  0.019433   \n",
       "wheel-base         -0.529145      -5.706781e-02    1.000000  0.879005   \n",
       "length             -0.364511       1.943295e-02    0.879005  1.000000   \n",
       "width              -0.237262       8.696056e-02    0.814593  0.857271   \n",
       "height             -0.542261      -3.776638e-01    0.583789  0.492955   \n",
       "curb-weight        -0.234743       9.940431e-02    0.787584  0.881058   \n",
       "engine-size        -0.112069       1.123616e-01    0.576779  0.685531   \n",
       "bore               -0.145790      -2.992858e-02    0.501576  0.610847   \n",
       "stroke              0.008072       5.567272e-02    0.144733  0.120929   \n",
       "compression-ratio  -0.181073      -1.147376e-01    0.249689  0.159203   \n",
       "horsepower          0.074625       2.173220e-01    0.375582  0.580606   \n",
       "peak-rpm            0.284033       2.395799e-01   -0.365045 -0.286688   \n",
       "city-mpg           -0.030158      -2.252554e-01   -0.480029 -0.667658   \n",
       "highway-mpg         0.041248      -1.820110e-01   -0.552211 -0.700186   \n",
       "price              -0.083327       1.339992e-01    0.589147  0.691044   \n",
       "wheel-base-M       -0.529145      -5.706781e-02    1.000000  0.879005   \n",
       "length-M           -0.364511       1.943295e-02    0.879005  1.000000   \n",
       "width-M            -0.237262       8.696056e-02    0.814593  0.857271   \n",
       "height-M           -0.542261      -3.776638e-01    0.583789  0.492955   \n",
       "front              -0.215014       7.136535e-19    0.191524  0.053384   \n",
       "rear                0.215014       9.848419e-18   -0.191524 -0.053384   \n",
       "\n",
       "                      width    height  curb-weight  engine-size      bore  \\\n",
       "symboling         -0.237262 -0.542261    -0.234743    -0.112069 -0.145790   \n",
       "normalized-losses  0.086961 -0.377664     0.099404     0.112362 -0.029929   \n",
       "wheel-base         0.814593  0.583789     0.787584     0.576779  0.501576   \n",
       "length             0.857271  0.492955     0.881058     0.685531  0.610847   \n",
       "width              1.000000  0.300995     0.867720     0.731100  0.548485   \n",
       "height             0.300995  1.000000     0.310660     0.076255  0.187917   \n",
       "curb-weight        0.867720  0.310660     1.000000     0.849090  0.644552   \n",
       "engine-size        0.731100  0.076255     0.849090     1.000000  0.572878   \n",
       "bore               0.548485  0.187917     0.644552     0.572878  1.000000   \n",
       "stroke             0.182864 -0.081103     0.168669     0.208133 -0.051087   \n",
       "compression-ratio  0.189008  0.259526     0.156444     0.029005  0.002034   \n",
       "horsepower         0.617132 -0.085852     0.758071     0.822695  0.566835   \n",
       "peak-rpm          -0.247337 -0.315820    -0.279422    -0.256681 -0.267061   \n",
       "city-mpg          -0.638155 -0.057087    -0.750390    -0.651002 -0.581272   \n",
       "highway-mpg       -0.684700 -0.111568    -0.795515    -0.679877 -0.590672   \n",
       "price              0.752795  0.137284     0.834420     0.872337  0.543433   \n",
       "wheel-base-M       0.814593  0.583789     0.787584     0.576779  0.501576   \n",
       "length-M           0.857271  0.492955     0.881058     0.685531  0.610847   \n",
       "width-M            1.000000  0.300995     0.867720     0.731100  0.548485   \n",
       "height-M           0.300995  1.000000     0.310660     0.076255  0.187917   \n",
       "front              0.052829  0.111642    -0.051280    -0.199424 -0.188875   \n",
       "rear              -0.052829 -0.111642     0.051280     0.199424  0.188875   \n",
       "\n",
       "                     stroke  ...  peak-rpm  city-mpg  highway-mpg     price  \\\n",
       "symboling          0.008072  ...  0.284033 -0.030158     0.041248 -0.083327   \n",
       "normalized-losses  0.055673  ...  0.239580 -0.225255    -0.182011  0.133999   \n",
       "wheel-base         0.144733  ... -0.365045 -0.480029    -0.552211  0.589147   \n",
       "length             0.120929  ... -0.286688 -0.667658    -0.700186  0.691044   \n",
       "width              0.182864  ... -0.247337 -0.638155    -0.684700  0.752795   \n",
       "height            -0.081103  ... -0.315820 -0.057087    -0.111568  0.137284   \n",
       "curb-weight        0.168669  ... -0.279422 -0.750390    -0.795515  0.834420   \n",
       "engine-size        0.208133  ... -0.256681 -0.651002    -0.679877  0.872337   \n",
       "bore              -0.051087  ... -0.267061 -0.581272    -0.590672  0.543433   \n",
       "stroke             1.000000  ... -0.066021 -0.040547    -0.040170  0.083298   \n",
       "compression-ratio  0.186780  ... -0.436303  0.330897     0.267929  0.071176   \n",
       "horsepower         0.101003  ...  0.108164 -0.822507    -0.804698  0.809629   \n",
       "peak-rpm          -0.066021  ...  1.000000 -0.116364    -0.059319 -0.101593   \n",
       "city-mpg          -0.040547  ... -0.116364  1.000000     0.972024 -0.687186   \n",
       "highway-mpg       -0.040170  ... -0.059319  0.972024     1.000000 -0.705115   \n",
       "price              0.083298  ... -0.101593 -0.687186    -0.705115  1.000000   \n",
       "wheel-base-M       0.144733  ... -0.365045 -0.480029    -0.552211  0.589147   \n",
       "length-M           0.120929  ... -0.286688 -0.667658    -0.700186  0.691044   \n",
       "width-M            0.182864  ... -0.247337 -0.638155    -0.684700  0.752795   \n",
       "height-M          -0.081103  ... -0.315820 -0.057087    -0.111568  0.137284   \n",
       "front              0.141684  ... -0.201802  0.157707     0.103378 -0.331098   \n",
       "rear              -0.141684  ...  0.201802 -0.157707    -0.103378  0.331098   \n",
       "\n",
       "                   wheel-base-M  length-M   width-M  height-M         front  \\\n",
       "symboling             -0.529145 -0.364511 -0.237262 -0.542261 -2.150143e-01   \n",
       "normalized-losses     -0.057068  0.019433  0.086961 -0.377664  7.136535e-19   \n",
       "wheel-base             1.000000  0.879005  0.814593  0.583789  1.915238e-01   \n",
       "length                 0.879005  1.000000  0.857271  0.492955  5.338437e-02   \n",
       "width                  0.814593  0.857271  1.000000  0.300995  5.282905e-02   \n",
       "height                 0.583789  0.492955  0.300995  1.000000  1.116422e-01   \n",
       "curb-weight            0.787584  0.881058  0.867720  0.310660 -5.128012e-02   \n",
       "engine-size            0.576779  0.685531  0.731100  0.076255 -1.994238e-01   \n",
       "bore                   0.501576  0.610847  0.548485  0.187917 -1.888753e-01   \n",
       "stroke                 0.144733  0.120929  0.182864 -0.081103  1.416845e-01   \n",
       "compression-ratio      0.249689  0.159203  0.189008  0.259526  2.065193e-02   \n",
       "horsepower             0.375582  0.580606  0.617132 -0.085852 -3.422919e-01   \n",
       "peak-rpm              -0.365045 -0.286688 -0.247337 -0.315820 -2.018016e-01   \n",
       "city-mpg              -0.480029 -0.667658 -0.638155 -0.057087  1.577070e-01   \n",
       "highway-mpg           -0.552211 -0.700186 -0.684700 -0.111568  1.033778e-01   \n",
       "price                  0.589147  0.691044  0.752795  0.137284 -3.310979e-01   \n",
       "wheel-base-M           1.000000  0.879005  0.814593  0.583789  1.915238e-01   \n",
       "length-M               0.879005  1.000000  0.857271  0.492955  5.338437e-02   \n",
       "width-M                0.814593  0.857271  1.000000  0.300995  5.282905e-02   \n",
       "height-M               0.583789  0.492955  0.300995  1.000000  1.116422e-01   \n",
       "front                  0.191524  0.053384  0.052829  0.111642  1.000000e+00   \n",
       "rear                  -0.191524 -0.053384 -0.052829 -0.111642 -1.000000e+00   \n",
       "\n",
       "                           rear  \n",
       "symboling          2.150143e-01  \n",
       "normalized-losses  9.848419e-18  \n",
       "wheel-base        -1.915238e-01  \n",
       "length            -5.338437e-02  \n",
       "width             -5.282905e-02  \n",
       "height            -1.116422e-01  \n",
       "curb-weight        5.128012e-02  \n",
       "engine-size        1.994238e-01  \n",
       "bore               1.888753e-01  \n",
       "stroke            -1.416845e-01  \n",
       "compression-ratio -2.065193e-02  \n",
       "horsepower         3.422919e-01  \n",
       "peak-rpm           2.018016e-01  \n",
       "city-mpg          -1.577070e-01  \n",
       "highway-mpg       -1.033778e-01  \n",
       "price              3.310979e-01  \n",
       "wheel-base-M      -1.915238e-01  \n",
       "length-M          -5.338437e-02  \n",
       "width-M           -5.282905e-02  \n",
       "height-M          -1.116422e-01  \n",
       "front             -1.000000e+00  \n",
       "rear               1.000000e+00  \n",
       "\n",
       "[22 rows x 22 columns]"
      ]
     },
     "execution_count": 85,
     "metadata": {},
     "output_type": "execute_result"
    }
   ],
   "source": [
    "df.corr()"
   ]
  },
  {
   "cell_type": "markdown",
   "metadata": {
    "colab_type": "text",
    "id": "EUlh7cKSlbba"
   },
   "source": [
    "From the summary of the correlation between target variable '\"price\" and all other features, we can see that the variables with potential strong correlation with price are \"length\", \"width\", \"curb-weight\", \"engine-size\", \"horsepower\", \"city-mpg\" and \"highway-mpg\". Next, we are going to take a closer look at the variables by visualizing the relationship."
   ]
  },
  {
   "cell_type": "markdown",
   "metadata": {
    "colab_type": "text",
    "id": "myipH4vtMRJi"
   },
   "source": []
  },
  {
   "cell_type": "code",
   "execution_count": 87,
   "metadata": {
    "colab": {
     "base_uri": "https://localhost:8080/",
     "height": 311
    },
    "colab_type": "code",
    "id": "gWY9eXbvj2D6",
    "outputId": "355e691a-f176-4cf5-f063-73d99e865797"
   },
   "outputs": [
    {
     "data": {
      "image/png": "[encoded data removed]",
      "text/plain": [
       "<Figure size 432x288 with 1 Axes>"
      ]
     },
     "metadata": {
      "needs_background": "light"
     },
     "output_type": "display_data"
    },
    {
     "data": {
      "text/plain": [
       "0.47754193402289613"
      ]
     },
     "execution_count": 87,
     "metadata": {},
     "output_type": "execute_result"
    }
   ],
   "source": [
    "sns.regplot(x='length', y='price',data=df).set_title('Correlation between Length and Price')\n",
    "plt.pyplot.show()\n",
    "\n",
    "from sklearn.linear_model import LinearRegression\n",
    "lm=LinearRegression()\n",
    "x=df['length']\n",
    "x=x.tolist()\n",
    "x=np.reshape(x,(-1,1))\n",
    "y=df['price']\n",
    "lm.fit(x,y)\n",
    "lm.score(x,y)"
   ]
  },
  {
   "cell_type": "code",
   "execution_count": 88,
   "metadata": {
    "colab": {
     "base_uri": "https://localhost:8080/",
     "height": 33
    },
    "colab_type": "code",
    "id": "mA26xOp2HXR0",
    "outputId": "059ddfa9-f40c-40d1-f1f5-381c8e3b4c3e"
   },
   "outputs": [
    {
     "data": {
      "text/plain": [
       "0.5272941695177952"
      ]
     },
     "execution_count": 88,
     "metadata": {},
     "output_type": "execute_result"
    }
   ],
   "source": [
    "df['length-2order']=df['length']**2\n",
    "\n",
    "z=df[['length','length-2order']]\n",
    "z=np.reshape(z,(-1,2))\n",
    "\n",
    "y=df['price']\n",
    "lm.fit(z,y)\n",
    "lm.score(z,y)\n"
   ]
  },
  {
   "cell_type": "markdown",
   "metadata": {
    "colab_type": "text",
    "id": "qkXOOdrKIrtp"
   },
   "source": [
    "From the analysis above, we can see the quadratic regression of length explains the price better than simple linear regression of length. But both of the R-squared values are relatively low."
   ]
  },
  {
   "cell_type": "code",
   "execution_count": 89,
   "metadata": {
    "colab": {
     "base_uri": "https://localhost:8080/",
     "height": 295
    },
    "colab_type": "code",
    "id": "i_WWsrWxoBNC",
    "outputId": "fb7d149d-f103-42e5-f6ca-605bcb31fb97"
   },
   "outputs": [
    {
     "data": {
      "image/png": "[encoded data removed]",
      "text/plain": [
       "<Figure size 432x288 with 1 Axes>"
      ]
     },
     "metadata": {
      "needs_background": "light"
     },
     "output_type": "display_data"
    }
   ],
   "source": [
    "sns.regplot(x='width', y='price',data=df).set_title('Correlation between Width and Price')\n",
    "plt.pyplot.show()"
   ]
  },
  {
   "cell_type": "code",
   "execution_count": 90,
   "metadata": {
    "colab": {
     "base_uri": "https://localhost:8080/",
     "height": 311
    },
    "colab_type": "code",
    "id": "0gLnEvnfoPYu",
    "outputId": "171eedb0-5029-4c0a-c386-d49f21909f02"
   },
   "outputs": [
    {
     "data": {
      "image/png": "[encoded data removed]",
      "text/plain": [
       "<Figure size 432x288 with 1 Axes>"
      ]
     },
     "metadata": {
      "needs_background": "light"
     },
     "output_type": "display_data"
    },
    {
     "data": {
      "text/plain": [
       "0.6962574620950065"
      ]
     },
     "execution_count": 90,
     "metadata": {},
     "output_type": "execute_result"
    }
   ],
   "source": [
    "sns.regplot(x='curb-weight', y='price',data=df).set_title('Correlation between Curb-weight and Price')\n",
    "plt.pyplot.show()\n",
    "\n",
    "from sklearn.linear_model import LinearRegression\n",
    "lm=LinearRegression()\n",
    "x=df['curb-weight']\n",
    "x=x.tolist()\n",
    "x=np.reshape(x,(-1,1))\n",
    "y=df['price']\n",
    "lm.fit(x,y)\n",
    "lm.score(x,y)"
   ]
  },
  {
   "cell_type": "markdown",
   "metadata": {
    "colab_type": "text",
    "id": "QMS5VdKW4HMG"
   },
   "source": [
    "explore the relationship between the price and quadratic regression of \"curb-weight\""
   ]
  },
  {
   "cell_type": "code",
   "execution_count": 91,
   "metadata": {
    "colab": {
     "base_uri": "https://localhost:8080/",
     "height": 33
    },
    "colab_type": "code",
    "id": "YUDL19sX4aj9",
    "outputId": "8c15d402-5ddd-453d-b9dc-b20027617f2d"
   },
   "outputs": [
    {
     "data": {
      "text/plain": [
       "0.7199152269580265"
      ]
     },
     "execution_count": 91,
     "metadata": {},
     "output_type": "execute_result"
    }
   ],
   "source": [
    "df['curb-weight-2order']=df['curb-weight']**2\n",
    "\n",
    "z=df[['curb-weight','curb-weight-2order']]\n",
    "z=np.reshape(z,(-1,2))\n",
    "\n",
    "y=df['price']\n",
    "lm.fit(z,y)\n",
    "lm.score(z,y)\n"
   ]
  },
  {
   "cell_type": "markdown",
   "metadata": {
    "colab_type": "text",
    "id": "BVXGPV10Ku8p"
   },
   "source": [
    "From the analysis above, we can see the quadratic regression of curb-weight explains the price better than simple linear regression of length. Also both of the R-squared values are relatively high."
   ]
  },
  {
   "cell_type": "code",
   "execution_count": 92,
   "metadata": {
    "colab": {
     "base_uri": "https://localhost:8080/",
     "height": 311
    },
    "colab_type": "code",
    "id": "crsOZODJoalP",
    "outputId": "fd93b93f-6f25-49e2-c47b-a854106b6a0b"
   },
   "outputs": [
    {
     "data": {
      "image/png": "[encoded data removed]",
      "text/plain": [
       "<Figure size 432x288 with 1 Axes>"
      ]
     },
     "metadata": {
      "needs_background": "light"
     },
     "output_type": "display_data"
    },
    {
     "data": {
      "text/plain": [
       "0.7609714051425504"
      ]
     },
     "execution_count": 92,
     "metadata": {},
     "output_type": "execute_result"
    }
   ],
   "source": [
    "sns.regplot(x='engine-size', y='price',data=df).set_title('Correlation between Engine-size and Price')\n",
    "plt.pyplot.show()\n",
    "\n",
    "from sklearn.linear_model import LinearRegression\n",
    "lm=LinearRegression()\n",
    "x=df['engine-size']\n",
    "x=x.tolist()\n",
    "x=np.reshape(x,(-1,1))\n",
    "y=df['price']\n",
    "lm.fit(x,y)\n",
    "lm.score(x,y)"
   ]
  },
  {
   "cell_type": "markdown",
   "metadata": {
    "colab_type": "text",
    "id": "80GqhDMVNp4z"
   },
   "source": [
    "We calcuated the R-squared value for the linear regression between engine-size and price. The value is relatively high which means the simple linear regression explains the price well and the engine-size is a good predictor for price."
   ]
  },
  {
   "cell_type": "code",
   "execution_count": 93,
   "metadata": {
    "colab": {
     "base_uri": "https://localhost:8080/",
     "height": 295
    },
    "colab_type": "code",
    "id": "ySYpuxEZoeVV",
    "outputId": "592dd93a-eda5-47e9-9fd5-24afcb7d6c2b"
   },
   "outputs": [
    {
     "data": {
      "image/png": "[encoded data removed]",
      "text/plain": [
       "<Figure size 432x288 with 1 Axes>"
      ]
     },
     "metadata": {
      "needs_background": "light"
     },
     "output_type": "display_data"
    }
   ],
   "source": [
    "sns.regplot(x='horsepower', y='price',data=df).set_title('Correlation between Horsepower and Price')\n",
    "plt.pyplot.show()"
   ]
  },
  {
   "cell_type": "code",
   "execution_count": 94,
   "metadata": {
    "colab": {
     "base_uri": "https://localhost:8080/",
     "height": 295
    },
    "colab_type": "code",
    "id": "flXoYNf2ohsV",
    "outputId": "5d9c09e5-70d9-4aa4-8fbb-8078dff3f3e8"
   },
   "outputs": [
    {
     "data": {
      "image/png": "[encoded data removed]",
      "text/plain": [
       "<Figure size 432x288 with 1 Axes>"
      ]
     },
     "metadata": {
      "needs_background": "light"
     },
     "output_type": "display_data"
    }
   ],
   "source": [
    "sns.regplot(x='city-mpg', y='price',data=df).set_title('Correlation between City-mpg and Price')\n",
    "plt.pyplot.show()"
   ]
  },
  {
   "cell_type": "code",
   "execution_count": 95,
   "metadata": {
    "colab": {
     "base_uri": "https://localhost:8080/",
     "height": 50
    },
    "colab_type": "code",
    "id": "6moH_aZTi-LH",
    "outputId": "5bb65483-e696-4422-c2a1-f5b0c790aaf4"
   },
   "outputs": [
    {
     "name": "stdout",
     "output_type": "stream",
     "text": [
      "Correlation coefficient for curb-weight is: 0.8344204348498461 with a p_value of 3.9699775360220333e-53\n",
      "Correlation coefficient for engine-size is: 0.8723367498521142 with a p_value of 1.8977171466563487e-63\n"
     ]
    }
   ],
   "source": [
    "import scipy.stats as stt\n",
    "corr_coeff1, p_value1 = stt.pearsonr(df['curb-weight'],df['price'])\n",
    "print('Correlation coefficient for curb-weight is:', corr_coeff1, 'with a p_value of', p_value1)\n",
    "      \n",
    "corr_coeff2, p_value2 = stt.pearsonr(df['engine-size'],df['price'])\n",
    "print('Correlation coefficient for engine-size is:', corr_coeff2, 'with a p_value of', p_value2)"
   ]
  },
  {
   "cell_type": "markdown",
   "metadata": {
    "colab_type": "text",
    "id": "U4O3cbDrOOXP"
   },
   "source": [
    "The analysis above shows the corelation coefficient for curb-weight is strong with a high confidence level, which means the predictor is statistically significant. Similarly, the engine-size as a predictor is also statistically significant."
   ]
  },
  {
   "cell_type": "markdown",
   "metadata": {
    "colab_type": "text",
    "id": "VqgHGYt2nta5"
   },
   "source": [
    "- Perform ANOVA\n",
    "\n",
    "We can perform analysis of variance by using ANOVA to explore the correlation between variables further."
   ]
  },
  {
   "cell_type": "code",
   "execution_count": 96,
   "metadata": {
    "colab": {
     "base_uri": "https://localhost:8080/",
     "height": 33
    },
    "colab_type": "code",
    "id": "YTyAF8M1n8cL",
    "outputId": "fcd55d4c-faef-47e2-8a55-2e1da7ac7c21"
   },
   "outputs": [
    {
     "name": "stdout",
     "output_type": "stream",
     "text": [
      "f_score for drive-wheels is: 68.49603532807176 with a p_value of 2.6116313994533863e-23\n"
     ]
    }
   ],
   "source": [
    "group_by_variables2=group_by_variables[['drive-wheels','price']].groupby(['drive-wheels'])\n",
    "\n",
    "import scipy.stats as stt\n",
    "f_score, p_value = stt.f_oneway(group_by_variables2.get_group('fwd')['price'],group_by_variables2.get_group('rwd')['price'],group_by_variables2.get_group('4wd')['price'])\n",
    "print('f_score for drive-wheels is:', f_score, 'with a p_value of', p_value)"
   ]
  },
  {
   "cell_type": "markdown",
   "metadata": {
    "colab_type": "text",
    "id": "hUjygrBKPEta"
   },
   "source": [
    "The f_score indicates the ratio of the variance of each group's means and the variance within each group. The calculation result shows a significant difference between each category of drive-wheels with a high confidence level."
   ]
  },
  {
   "cell_type": "markdown",
   "metadata": {
    "colab_type": "text",
    "id": "-y9Cn_MNQtue"
   },
   "source": [
    "After cleaning up the automobile dataset and performing exploratory analysis, we concluldes that the features listed below are significant predictors for used car price:\n",
    "\n",
    "- Numerical variables -\n",
    "  - Length\n",
    "  - Width\n",
    "  - Engine-size\n",
    "  - Curb-weight\n",
    "  - Horsepower\n",
    "  - City-mpg\n",
    "  - Highway-mpg\n",
    "\n",
    "- Categorical variables -\n",
    "  - Engine-location\n",
    "  - Drive-wheels\n",
    "  - Body-style"
   ]
  }
 ],
 "metadata": {
  "colab": {
   "collapsed_sections": [],
   "name": "automobile.ipynb",
   "provenance": [],
   "version": "0.3.2"
  },
  "kernelspec": {
   "display_name": "Python 3",
   "language": "python",
   "name": "python3"
  },
  "language_info": {
   "codemirror_mode": {
    "name": "ipython",
    "version": 3
   },
   "file_extension": ".py",
   "mimetype": "text/x-python",
   "name": "python",
   "nbconvert_exporter": "python",
   "pygments_lexer": "ipython3",
   "version": "3.6.8"
  }
 },
 "nbformat": 4,
 "nbformat_minor": 1
}
